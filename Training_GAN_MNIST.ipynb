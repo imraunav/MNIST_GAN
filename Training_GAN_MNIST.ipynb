{
  "nbformat": 4,
  "nbformat_minor": 0,
  "metadata": {
    "colab": {
      "provenance": [],
      "gpuType": "T4",
      "include_colab_link": true
    },
    "kernelspec": {
      "name": "python3",
      "display_name": "Python 3"
    },
    "language_info": {
      "name": "python"
    },
    "accelerator": "GPU"
  },
  "cells": [
    {
      "cell_type": "markdown",
      "metadata": {
        "id": "view-in-github",
        "colab_type": "text"
      },
      "source": [
        "<a href=\"https://colab.research.google.com/github/imraunav/MNIST_GAN/blob/main/Training_GAN_MNIST.ipynb\" target=\"_parent\"><img src=\"https://colab.research.google.com/assets/colab-badge.svg\" alt=\"Open In Colab\"/></a>"
      ]
    },
    {
      "cell_type": "code",
      "execution_count": 56,
      "metadata": {
        "id": "nqZHuIQDH31c"
      },
      "outputs": [],
      "source": [
        "import torch\n",
        "from torch import nn\n",
        "from torchvision.datasets import MNIST\n",
        "from torchvision import transforms\n",
        "from torchvision.utils import save_image\n",
        "from torch.utils.data import Dataset, DataLoader, ConcatDataset\n",
        "import os\n",
        "from time import time"
      ]
    },
    {
      "cell_type": "code",
      "source": [
        "seed = 32\n",
        "torch.cuda.manual_seed(seed)\n",
        "torch.manual_seed(seed)\n",
        "print(\"Seed set!\")"
      ],
      "metadata": {
        "colab": {
          "base_uri": "https://localhost:8080/"
        },
        "id": "-8ZcnYK9uhHn",
        "outputId": "79dd58b2-ac15-4e41-ed59-f84e88f82564"
      },
      "execution_count": 57,
      "outputs": [
        {
          "output_type": "stream",
          "name": "stdout",
          "text": [
            "Seed set!\n"
          ]
        }
      ]
    },
    {
      "cell_type": "code",
      "source": [
        "from google.colab import drive\n",
        "drive.mount('/content/drive', force_remount=True)"
      ],
      "metadata": {
        "colab": {
          "base_uri": "https://localhost:8080/"
        },
        "id": "kxIQjPuQtmgH",
        "outputId": "362c5305-ade3-4df8-e180-24fda9b42787"
      },
      "execution_count": 58,
      "outputs": [
        {
          "output_type": "stream",
          "name": "stdout",
          "text": [
            "Mounted at /content/drive\n"
          ]
        }
      ]
    },
    {
      "cell_type": "code",
      "source": [
        "transform = transforms.Compose(\n",
        "    [\n",
        "        transforms.ToTensor(),\n",
        "    ]\n",
        ")\n",
        "train_ds = MNIST(\"./MNIST\", download=True, train=True, transform=transform)\n",
        "test_ds = MNIST(\"./MNIST\", download=True, train=False, transform=transform)\n",
        "\n",
        "mnist_ds = ConcatDataset([train_ds, test_ds])"
      ],
      "metadata": {
        "id": "7TqA0pdgILI2"
      },
      "execution_count": 59,
      "outputs": []
    },
    {
      "cell_type": "code",
      "source": [
        "batch_size = 100\n",
        "dataloader = DataLoader(mnist_ds, batch_size=batch_size, shuffle=True)"
      ],
      "metadata": {
        "id": "NPl_wRIYIWj7"
      },
      "execution_count": 60,
      "outputs": []
    },
    {
      "cell_type": "code",
      "source": [
        "latent_dim = 128\n",
        "class Generator(nn.Module):\n",
        "    def __init__(self, hidden_dim=512):\n",
        "        super().__init__()\n",
        "        self.net = nn.Sequential(\n",
        "                nn.Linear(latent_dim, hidden_dim),\n",
        "                nn.BatchNorm1d(hidden_dim),\n",
        "                nn.LeakyReLU(),\n",
        "\n",
        "                nn.Linear(hidden_dim, hidden_dim),\n",
        "                nn.BatchNorm1d(hidden_dim),\n",
        "                nn.LeakyReLU(),\n",
        "\n",
        "                nn.Linear(hidden_dim, 784),\n",
        "        )\n",
        "    def forward(self, noise):\n",
        "        batch_size = noise.size(0)\n",
        "        return self.net(noise).view(batch_size, 1, 28, 28).sigmoid() # [B, C*H*W] -> [B, C, H, W]\n",
        "\n",
        "class Discriminator(nn.Module):\n",
        "    def __init__(self):\n",
        "        super().__init__()\n",
        "        self.net = nn.Sequential(\n",
        "                nn.Linear(784, 256),\n",
        "                nn.ReLU(),\n",
        "                nn.Dropout(p=0.3),\n",
        "\n",
        "                nn.Linear(256, 256),\n",
        "                nn.ReLU(),\n",
        "                nn.Dropout(p=0.3),\n",
        "\n",
        "                nn.Linear(256, 1),\n",
        "        )\n",
        "    def forward(self, img):\n",
        "        batch_size = img.size(0)\n",
        "        img = img.view(batch_size, -1)  # [B, C, H, W] -> [B, C*H*W]\n",
        "        return self.net(img)"
      ],
      "metadata": {
        "id": "S9LR3XoILRJD"
      },
      "execution_count": 61,
      "outputs": []
    },
    {
      "cell_type": "code",
      "source": [
        "device = torch.device('cuda' if torch.cuda.is_available() else 'cpu')\n",
        "print(\"Device: \", device)"
      ],
      "metadata": {
        "colab": {
          "base_uri": "https://localhost:8080/"
        },
        "id": "E6TaySugOTdB",
        "outputId": "cd56a6fc-817c-4f77-9fa9-106baed7ffb9"
      },
      "execution_count": 62,
      "outputs": [
        {
          "output_type": "stream",
          "name": "stdout",
          "text": [
            "Device:  cuda\n"
          ]
        }
      ]
    },
    {
      "cell_type": "code",
      "source": [
        "generator = Generator().to(device)\n",
        "discriminator = Discriminator().to(device)"
      ],
      "metadata": {
        "id": "tbQLBHg3OeRt"
      },
      "execution_count": 63,
      "outputs": []
    },
    {
      "cell_type": "code",
      "source": [
        "# noise = torch.rand((32, latent_dim), device=device)\n",
        "\n",
        "# img = generator(noise)\n",
        "# print(img.shape)\n",
        "\n",
        "# score = discriminator(img)\n",
        "# print(score.shape)"
      ],
      "metadata": {
        "id": "G2-XBw-AOI11"
      },
      "execution_count": 64,
      "outputs": []
    },
    {
      "cell_type": "code",
      "source": [
        "# dummy_latent = torch.rand((64, latent_dim), device=device)\n",
        "\n",
        "# dummy_img = generator(dummy_latent)"
      ],
      "metadata": {
        "id": "-ryXwqvp1ZlI"
      },
      "execution_count": 65,
      "outputs": []
    },
    {
      "cell_type": "code",
      "source": [
        "# dummy_img.shape"
      ],
      "metadata": {
        "id": "IuB8wGM91ZjD"
      },
      "execution_count": 66,
      "outputs": []
    },
    {
      "cell_type": "code",
      "source": [
        "# from IPython.display import Image\n",
        "# progress_path = \"drive/MyDrive/GAN_MNIST/progress\"\n",
        "# os.makedirs(progress_path, exist_ok=True)\n",
        "# save_image(dummy_img, progress_path+\"/dummy.png\", nrow=8)\n",
        "\n",
        "# Image(os.path.join(progress_path, 'dummy.png'))"
      ],
      "metadata": {
        "id": "B03_sUtm4mu6"
      },
      "execution_count": 67,
      "outputs": []
    },
    {
      "cell_type": "code",
      "source": [],
      "metadata": {
        "id": "JK3W3tnJ1Zeo"
      },
      "execution_count": 67,
      "outputs": []
    },
    {
      "cell_type": "code",
      "source": [
        "print(generator)\n",
        "print(discriminator)"
      ],
      "metadata": {
        "colab": {
          "base_uri": "https://localhost:8080/"
        },
        "id": "mUesBYB3PaUq",
        "outputId": "56b72a2a-c11b-4d26-e8c3-34ab4c9fdf75"
      },
      "execution_count": 68,
      "outputs": [
        {
          "output_type": "stream",
          "name": "stdout",
          "text": [
            "Generator(\n",
            "  (net): Sequential(\n",
            "    (0): Linear(in_features=128, out_features=512, bias=True)\n",
            "    (1): BatchNorm1d(512, eps=1e-05, momentum=0.1, affine=True, track_running_stats=True)\n",
            "    (2): LeakyReLU(negative_slope=0.01)\n",
            "    (3): Linear(in_features=512, out_features=512, bias=True)\n",
            "    (4): BatchNorm1d(512, eps=1e-05, momentum=0.1, affine=True, track_running_stats=True)\n",
            "    (5): LeakyReLU(negative_slope=0.01)\n",
            "    (6): Linear(in_features=512, out_features=784, bias=True)\n",
            "  )\n",
            ")\n",
            "Discriminator(\n",
            "  (net): Sequential(\n",
            "    (0): Linear(in_features=784, out_features=256, bias=True)\n",
            "    (1): ReLU()\n",
            "    (2): Dropout(p=0.3, inplace=False)\n",
            "    (3): Linear(in_features=256, out_features=256, bias=True)\n",
            "    (4): ReLU()\n",
            "    (5): Dropout(p=0.3, inplace=False)\n",
            "    (6): Linear(in_features=256, out_features=1, bias=True)\n",
            "  )\n",
            ")\n"
          ]
        }
      ]
    },
    {
      "cell_type": "code",
      "source": [
        "gen_opt = torch.optim.Adam(generator.parameters())\n",
        "disc_opt = torch.optim.Adam(discriminator.parameters())\n",
        "\n",
        "adv_crit = nn.BCEWithLogitsLoss().to(device)"
      ],
      "metadata": {
        "id": "65k__JDFPpfp"
      },
      "execution_count": 69,
      "outputs": []
    },
    {
      "cell_type": "code",
      "source": [
        "def train_gen(real_batch):\n",
        "\n",
        "    generator.train()\n",
        "    discriminator.eval()\n",
        "\n",
        "    batch_size = real_batch.size(0)\n",
        "    z = torch.normal(0, 1, (batch_size, latent_dim), device=device)\n",
        "    fake_batch = generator(z)\n",
        "    # with torch.no_grad():\n",
        "    #     score = discriminator(fake_batch)\n",
        "    score = discriminator(fake_batch)\n",
        "    targets = torch.ones_like(score, device=device) # generator target is 1 for fake\n",
        "    loss = adv_crit(score, targets)\n",
        "\n",
        "    gen_opt.zero_grad()\n",
        "    loss.backward()\n",
        "    gen_opt.step()\n",
        "\n",
        "    return loss.item()\n",
        "\n",
        "def train_disc(real_batch):\n",
        "\n",
        "    generator.eval()\n",
        "    discriminator.train()\n",
        "\n",
        "    batch_size = real_batch.size(0)\n",
        "    z = torch.normal(0, 1, (batch_size, latent_dim), device=device)\n",
        "    with torch.no_grad():\n",
        "        fake_batch = generator(z)\n",
        "\n",
        "    all_batch = torch.cat([real_batch, fake_batch], dim=0)\n",
        "\n",
        "    score = discriminator(all_batch)\n",
        "    targets = torch.cat(\n",
        "        [\n",
        "            torch.ones((batch_size, 1), device=device),\n",
        "            torch.zeros((batch_size, 1), device=device),\n",
        "        ]\n",
        "    )\n",
        "\n",
        "    loss = adv_crit(score, targets)\n",
        "\n",
        "    disc_opt.zero_grad()\n",
        "    loss.backward()\n",
        "    disc_opt.step()\n",
        "\n",
        "    return loss.item()"
      ],
      "metadata": {
        "id": "JLCeZabKR-dF"
      },
      "execution_count": 70,
      "outputs": []
    },
    {
      "cell_type": "code",
      "source": [
        "def checkpoint(epoch, losses, CKPT_PATH, CKPT=\"checkpoint.pt\"):\n",
        "    progress_path = os.path.join(CKPT_PATH, \"progress\")\n",
        "\n",
        "    state = {\n",
        "        \"epoch\" : epoch,\n",
        "        \"generator\" : generator.state_dict(),\n",
        "        \"discriminator\" : discriminator.state_dict(),\n",
        "        \"gen_opt\" : gen_opt.state_dict(),\n",
        "        \"disc_opt\" : disc_opt.state_dict(),\n",
        "        \"losses\" : losses,\n",
        "    }\n",
        "\n",
        "    os.makedirs(CKPT_PATH, exist_ok=True)\n",
        "    torch.save(state, os.path.join(CKPT_PATH, CKPT))\n",
        "\n",
        "    generator.eval()\n",
        "    gen_batch = generator(sample_latent)\n",
        "\n",
        "    os.makedirs(progress_path, exist_ok=True)\n",
        "    save_image(gen_batch, os.path.join(progress_path, f\"epoch_{epoch+1}.png\"))\n",
        "\n",
        "    print(f\"! Checkpoint saved at {epoch+1}.\")"
      ],
      "metadata": {
        "id": "XcXbaD6NqkTA"
      },
      "execution_count": 71,
      "outputs": []
    },
    {
      "cell_type": "code",
      "source": [
        "def load_checkpoint(CKPT_PATH, CKPT=\"checkpoint.pt\"):\n",
        "    state = torch.load(os.path.join(CKPT_PATH, CKPT))\n",
        "    generator.load_state_dict(state[\"generator\"])\n",
        "    discriminator.load_state_dict(state[\"discriminator\"])\n",
        "\n",
        "    gen_opt.load_state_dict(state[\"gen_opt\"])\n",
        "    disc_opt.load_state_dict(state[\"disc_opt\"])\n",
        "\n",
        "    return state[\"epoch\"], state[\"losses\"]"
      ],
      "metadata": {
        "id": "VwN5-rnAsIOD"
      },
      "execution_count": 72,
      "outputs": []
    },
    {
      "cell_type": "code",
      "source": [
        "MAX_EPOCH = 500\n",
        "CKPT_PATH = \"drive/MyDrive/GAN_MNIST\"\n",
        "CKPT_EVERY = 50\n",
        "sample_latent = torch.normal(0, 1, (64, latent_dim), device=device)\n",
        "\n",
        "losses = {\n",
        "    \"gen_loss\" : [],\n",
        "    \"disc_loss\" : [],\n",
        "}\n",
        "\n",
        "start = 0\n",
        "# Load checkpoint if found\n",
        "if os.path.exists(CKPT_PATH+\"/checkpoint.pt\"):\n",
        "    print(\"Checkpoint found\")\n",
        "    print('Loading checkpoint...')\n",
        "    start, losses = load_checkpoint(CKPT_PATH)\n",
        "\n",
        "tic = time()\n",
        "for epoch in range(start, MAX_EPOCH):\n",
        "    print(f\"Epoch {epoch+1}\", end=\" \")\n",
        "    running_losses = {\n",
        "        \"gen_loss\" : [],\n",
        "        \"disc_loss\" : [],\n",
        "    }\n",
        "    for real_batch, labels in dataloader:\n",
        "\n",
        "        # some regularization for the discriminator for the initial stages\n",
        "        real_batch = real_batch.to(device) #+ (1/(epoch+0.1))*torch.rand_like(real_batch, device=device)\n",
        "\n",
        "        disc_loss = train_disc(real_batch)\n",
        "        gen_loss = train_gen(real_batch)\n",
        "\n",
        "        running_losses[\"disc_loss\"].append(disc_loss)\n",
        "        running_losses[\"gen_loss\"].append(gen_loss)\n",
        "\n",
        "    for loss_name in ['gen_loss', \"disc_loss\"]:\n",
        "        epoch_loss = running_losses[loss_name]\n",
        "        losses[loss_name].append(sum(epoch_loss)/len(epoch_loss))\n",
        "\n",
        "    print(f\"| G_loss : {losses['gen_loss'][-1]:.4f}, D_loss : {losses['disc_loss'][-1]:.4f}\")\n",
        "\n",
        "    if epoch % CKPT_EVERY == 0:\n",
        "        checkpoint(epoch, losses, CKPT_PATH)\n",
        "        # pass\n",
        "toc = time()\n",
        "checkpoint(epoch, losses, CKPT_PATH)\n",
        "print(\"Training done!\")\n",
        "print(f\"Time taken to train: {(toc-tic)/60:.3f} mins\")"
      ],
      "metadata": {
        "id": "myszQSCqQM6S",
        "colab": {
          "base_uri": "https://localhost:8080/",
          "height": 1000
        },
        "outputId": "9aa1bc49-a330-4aa7-90ff-1c307a62c0fa"
      },
      "execution_count": 74,
      "outputs": [
        {
          "output_type": "stream",
          "name": "stdout",
          "text": [
            "Checkpoint found\n",
            "Loading checkpoint...\n",
            "Epoch 1 | G_loss : 6.2604, D_loss : 0.0501\n",
            "! Checkpoint saved at 1.\n",
            "Epoch 2 | G_loss : 4.5977, D_loss : 0.1076\n",
            "Epoch 3 | G_loss : 3.7022, D_loss : 0.1862\n",
            "Epoch 4 | G_loss : 2.6822, D_loss : 0.2701\n",
            "Epoch 5 | G_loss : 2.0899, D_loss : 0.3515\n",
            "Epoch 6 | G_loss : 1.9402, D_loss : 0.3872\n",
            "Epoch 7 | G_loss : 1.7426, D_loss : 0.4251\n",
            "Epoch 8 | G_loss : 1.5628, D_loss : 0.4578\n",
            "Epoch 9 | G_loss : 1.5693, D_loss : 0.4685\n",
            "Epoch 10 | G_loss : 1.6146, D_loss : 0.4684\n",
            "Epoch 11 | G_loss : 1.4477, D_loss : 0.4994\n",
            "Epoch 12 | G_loss : 1.3567, D_loss : 0.5253\n",
            "Epoch 13 | G_loss : 1.3001, D_loss : 0.5389\n",
            "Epoch 14 | G_loss : 1.2713, D_loss : 0.5493\n",
            "Epoch 15 | G_loss : 1.1585, D_loss : 0.5719\n",
            "Epoch 16 | G_loss : 1.0815, D_loss : 0.5969\n",
            "Epoch 17 | G_loss : 1.0958, D_loss : 0.5935\n",
            "Epoch 18 | G_loss : 1.1046, D_loss : 0.5902\n",
            "Epoch 19 | G_loss : 0.9971, D_loss : 0.6164\n",
            "Epoch 20 | G_loss : 1.0505, D_loss : 0.6071\n",
            "Epoch 21 | G_loss : 1.0248, D_loss : 0.6089\n",
            "Epoch 22 | G_loss : 1.0151, D_loss : 0.6145\n",
            "Epoch 23 | G_loss : 0.9923, D_loss : 0.6167\n",
            "Epoch 24 | G_loss : 0.9609, D_loss : 0.6240\n",
            "Epoch 25 | G_loss : 1.0346, D_loss : 0.6109\n",
            "Epoch 26 | G_loss : 0.9891, D_loss : 0.6162\n",
            "Epoch 27 | G_loss : 0.9480, D_loss : 0.6291\n",
            "Epoch 28 | G_loss : 0.9857, D_loss : 0.6193\n",
            "Epoch 29 | G_loss : 0.9673, D_loss : 0.6249\n",
            "Epoch 30 | G_loss : 0.9411, D_loss : 0.6301\n",
            "Epoch 31 | G_loss : 1.0018, D_loss : 0.6157\n",
            "Epoch 32 | G_loss : 0.9850, D_loss : 0.6187\n",
            "Epoch 33 | G_loss : 0.9786, D_loss : 0.6195\n",
            "Epoch 34 | G_loss : 0.9775, D_loss : 0.6210\n",
            "Epoch 35 | G_loss : 0.9758, D_loss : 0.6197\n",
            "Epoch 36 | G_loss : 0.9524, D_loss : 0.6268\n",
            "Epoch 37 | G_loss : 0.9605, D_loss : 0.6221\n",
            "Epoch 38 | G_loss : 0.9571, D_loss : 0.6252\n",
            "Epoch 39 | G_loss : 0.9682, D_loss : 0.6204\n",
            "Epoch 40 | G_loss : 0.9650, D_loss : 0.6242\n",
            "Epoch 41 | G_loss : 0.9646, D_loss : 0.6221\n",
            "Epoch 42 | G_loss : 0.9520, D_loss : 0.6263\n",
            "Epoch 43 | G_loss : 0.9623, D_loss : 0.6226\n",
            "Epoch 44 | G_loss : 0.9789, D_loss : 0.6205\n",
            "Epoch 45 | G_loss : 0.9407, D_loss : 0.6265\n",
            "Epoch 46 | G_loss : 0.9498, D_loss : 0.6266\n",
            "Epoch 47 | G_loss : 0.9583, D_loss : 0.6243\n",
            "Epoch 48 | G_loss : 0.9568, D_loss : 0.6267\n",
            "Epoch 49 | G_loss : 0.9537, D_loss : 0.6245\n",
            "Epoch 50 | G_loss : 0.9704, D_loss : 0.6232\n",
            "Epoch 51 | G_loss : 0.9565, D_loss : 0.6243\n",
            "! Checkpoint saved at 51.\n",
            "Epoch 52 | G_loss : 0.9541, D_loss : 0.6275\n",
            "Epoch 53 | G_loss : 0.9464, D_loss : 0.6277\n",
            "Epoch 54 | G_loss : 0.9429, D_loss : 0.6294\n",
            "Epoch 55 | G_loss : 0.9371, D_loss : 0.6289\n",
            "Epoch 56 | G_loss : 0.9290, D_loss : 0.6314\n",
            "Epoch 57 | G_loss : 0.9246, D_loss : 0.6341\n",
            "Epoch 58 | G_loss : 0.9304, D_loss : 0.6329\n",
            "Epoch 59 | G_loss : 0.9295, D_loss : 0.6331\n",
            "Epoch 60 | G_loss : 0.9525, D_loss : 0.6296\n",
            "Epoch 61 | G_loss : 0.9380, D_loss : 0.6309\n",
            "Epoch 62 | G_loss : 0.9320, D_loss : 0.6337\n",
            "Epoch 63 | G_loss : 0.9259, D_loss : 0.6360\n",
            "Epoch 64 | G_loss : 0.9214, D_loss : 0.6380\n",
            "Epoch 65 | G_loss : 0.9256, D_loss : 0.6366\n",
            "Epoch 66 | G_loss : 0.9308, D_loss : 0.6372\n",
            "Epoch 67 | G_loss : 0.9131, D_loss : 0.6399\n",
            "Epoch 68 | G_loss : 0.9264, D_loss : 0.6351\n",
            "Epoch 69 | G_loss : 0.9216, D_loss : 0.6400\n",
            "Epoch 70 | G_loss : 0.9080, D_loss : 0.6421\n",
            "Epoch 71 | G_loss : 0.9192, D_loss : 0.6396\n",
            "Epoch 72 | G_loss : 0.9112, D_loss : 0.6431\n",
            "Epoch 73 | G_loss : 0.9039, D_loss : 0.6445\n",
            "Epoch 74 | G_loss : 0.8913, D_loss : 0.6468\n",
            "Epoch 75 | G_loss : 0.9104, D_loss : 0.6394\n",
            "Epoch 76 | G_loss : 0.9197, D_loss : 0.6403\n",
            "Epoch 77 | G_loss : 0.9132, D_loss : 0.6441\n",
            "Epoch 78 | G_loss : 0.9023, D_loss : 0.6459\n",
            "Epoch 79 | G_loss : 0.8917, D_loss : 0.6471\n",
            "Epoch 80 | G_loss : 0.9056, D_loss : 0.6453\n",
            "Epoch 81 | G_loss : 0.9124, D_loss : 0.6448\n",
            "Epoch 82 | G_loss : 0.9128, D_loss : 0.6417\n",
            "Epoch 83 | G_loss : 0.9026, D_loss : 0.6455\n",
            "Epoch 84 | G_loss : 0.8958, D_loss : 0.6469\n",
            "Epoch 85 | G_loss : 0.9004, D_loss : 0.6471\n",
            "Epoch 86 | G_loss : 0.8904, D_loss : 0.6489\n",
            "Epoch 87 | G_loss : 0.8951, D_loss : 0.6466\n",
            "Epoch 88 | G_loss : 0.9007, D_loss : 0.6457\n",
            "Epoch 89 | G_loss : 0.8992, D_loss : 0.6458\n",
            "Epoch 90 | G_loss : 0.9088, D_loss : 0.6452\n",
            "Epoch 91 | G_loss : 0.8932, D_loss : 0.6495\n",
            "Epoch 92 | G_loss : 0.8941, D_loss : 0.6474\n",
            "Epoch 93 | G_loss : 0.9025, D_loss : 0.6480\n",
            "Epoch 94 | G_loss : 0.8982, D_loss : 0.6478\n",
            "Epoch 95 | G_loss : 0.8959, D_loss : 0.6483\n",
            "Epoch 96 | G_loss : 0.8977, D_loss : 0.6466\n",
            "Epoch 97 | G_loss : 0.9010, D_loss : 0.6476\n",
            "Epoch 98 | G_loss : 0.9022, D_loss : 0.6448\n",
            "Epoch 99 | G_loss : 0.9045, D_loss : 0.6462\n",
            "Epoch 100 | G_loss : 0.9016, D_loss : 0.6466\n",
            "Epoch 101 | G_loss : 0.9133, D_loss : 0.6442\n",
            "! Checkpoint saved at 101.\n",
            "Epoch 102 | G_loss : 0.9177, D_loss : 0.6448\n",
            "Epoch 103 | G_loss : 0.9168, D_loss : 0.6451\n",
            "Epoch 104 | G_loss : 0.9243, D_loss : 0.6431\n",
            "Epoch 105 | G_loss : 0.9313, D_loss : 0.6430\n",
            "Epoch 106 | G_loss : 0.9331, D_loss : 0.6416\n",
            "Epoch 107 "
          ]
        },
        {
          "output_type": "error",
          "ename": "KeyboardInterrupt",
          "evalue": "",
          "traceback": [
            "\u001b[0;31m---------------------------------------------------------------------------\u001b[0m",
            "\u001b[0;31mKeyboardInterrupt\u001b[0m                         Traceback (most recent call last)",
            "\u001b[0;32m<ipython-input-74-dac7def62420>\u001b[0m in \u001b[0;36m<cell line: 19>\u001b[0;34m()\u001b[0m\n\u001b[1;32m     23\u001b[0m         \u001b[0;34m\"disc_loss\"\u001b[0m \u001b[0;34m:\u001b[0m \u001b[0;34m[\u001b[0m\u001b[0;34m]\u001b[0m\u001b[0;34m,\u001b[0m\u001b[0;34m\u001b[0m\u001b[0;34m\u001b[0m\u001b[0m\n\u001b[1;32m     24\u001b[0m     }\n\u001b[0;32m---> 25\u001b[0;31m     \u001b[0;32mfor\u001b[0m \u001b[0mreal_batch\u001b[0m\u001b[0;34m,\u001b[0m \u001b[0mlabels\u001b[0m \u001b[0;32min\u001b[0m \u001b[0mdataloader\u001b[0m\u001b[0;34m:\u001b[0m\u001b[0;34m\u001b[0m\u001b[0;34m\u001b[0m\u001b[0m\n\u001b[0m\u001b[1;32m     26\u001b[0m \u001b[0;34m\u001b[0m\u001b[0m\n\u001b[1;32m     27\u001b[0m         \u001b[0;31m# some regularization for the discriminator for the initial stages\u001b[0m\u001b[0;34m\u001b[0m\u001b[0;34m\u001b[0m\u001b[0m\n",
            "\u001b[0;32m/usr/local/lib/python3.10/dist-packages/torch/utils/data/dataloader.py\u001b[0m in \u001b[0;36m__next__\u001b[0;34m(self)\u001b[0m\n\u001b[1;32m    628\u001b[0m                 \u001b[0;31m# TODO(https://github.com/pytorch/pytorch/issues/76750)\u001b[0m\u001b[0;34m\u001b[0m\u001b[0;34m\u001b[0m\u001b[0m\n\u001b[1;32m    629\u001b[0m                 \u001b[0mself\u001b[0m\u001b[0;34m.\u001b[0m\u001b[0m_reset\u001b[0m\u001b[0;34m(\u001b[0m\u001b[0;34m)\u001b[0m  \u001b[0;31m# type: ignore[call-arg]\u001b[0m\u001b[0;34m\u001b[0m\u001b[0;34m\u001b[0m\u001b[0m\n\u001b[0;32m--> 630\u001b[0;31m             \u001b[0mdata\u001b[0m \u001b[0;34m=\u001b[0m \u001b[0mself\u001b[0m\u001b[0;34m.\u001b[0m\u001b[0m_next_data\u001b[0m\u001b[0;34m(\u001b[0m\u001b[0;34m)\u001b[0m\u001b[0;34m\u001b[0m\u001b[0;34m\u001b[0m\u001b[0m\n\u001b[0m\u001b[1;32m    631\u001b[0m             \u001b[0mself\u001b[0m\u001b[0;34m.\u001b[0m\u001b[0m_num_yielded\u001b[0m \u001b[0;34m+=\u001b[0m \u001b[0;36m1\u001b[0m\u001b[0;34m\u001b[0m\u001b[0;34m\u001b[0m\u001b[0m\n\u001b[1;32m    632\u001b[0m             \u001b[0;32mif\u001b[0m \u001b[0mself\u001b[0m\u001b[0;34m.\u001b[0m\u001b[0m_dataset_kind\u001b[0m \u001b[0;34m==\u001b[0m \u001b[0m_DatasetKind\u001b[0m\u001b[0;34m.\u001b[0m\u001b[0mIterable\u001b[0m \u001b[0;32mand\u001b[0m\u001b[0;31m \u001b[0m\u001b[0;31m\\\u001b[0m\u001b[0;34m\u001b[0m\u001b[0;34m\u001b[0m\u001b[0m\n",
            "\u001b[0;32m/usr/local/lib/python3.10/dist-packages/torch/utils/data/dataloader.py\u001b[0m in \u001b[0;36m_next_data\u001b[0;34m(self)\u001b[0m\n\u001b[1;32m    672\u001b[0m     \u001b[0;32mdef\u001b[0m \u001b[0m_next_data\u001b[0m\u001b[0;34m(\u001b[0m\u001b[0mself\u001b[0m\u001b[0;34m)\u001b[0m\u001b[0;34m:\u001b[0m\u001b[0;34m\u001b[0m\u001b[0;34m\u001b[0m\u001b[0m\n\u001b[1;32m    673\u001b[0m         \u001b[0mindex\u001b[0m \u001b[0;34m=\u001b[0m \u001b[0mself\u001b[0m\u001b[0;34m.\u001b[0m\u001b[0m_next_index\u001b[0m\u001b[0;34m(\u001b[0m\u001b[0;34m)\u001b[0m  \u001b[0;31m# may raise StopIteration\u001b[0m\u001b[0;34m\u001b[0m\u001b[0;34m\u001b[0m\u001b[0m\n\u001b[0;32m--> 674\u001b[0;31m         \u001b[0mdata\u001b[0m \u001b[0;34m=\u001b[0m \u001b[0mself\u001b[0m\u001b[0;34m.\u001b[0m\u001b[0m_dataset_fetcher\u001b[0m\u001b[0;34m.\u001b[0m\u001b[0mfetch\u001b[0m\u001b[0;34m(\u001b[0m\u001b[0mindex\u001b[0m\u001b[0;34m)\u001b[0m  \u001b[0;31m# may raise StopIteration\u001b[0m\u001b[0;34m\u001b[0m\u001b[0;34m\u001b[0m\u001b[0m\n\u001b[0m\u001b[1;32m    675\u001b[0m         \u001b[0;32mif\u001b[0m \u001b[0mself\u001b[0m\u001b[0;34m.\u001b[0m\u001b[0m_pin_memory\u001b[0m\u001b[0;34m:\u001b[0m\u001b[0;34m\u001b[0m\u001b[0;34m\u001b[0m\u001b[0m\n\u001b[1;32m    676\u001b[0m             \u001b[0mdata\u001b[0m \u001b[0;34m=\u001b[0m \u001b[0m_utils\u001b[0m\u001b[0;34m.\u001b[0m\u001b[0mpin_memory\u001b[0m\u001b[0;34m.\u001b[0m\u001b[0mpin_memory\u001b[0m\u001b[0;34m(\u001b[0m\u001b[0mdata\u001b[0m\u001b[0;34m,\u001b[0m \u001b[0mself\u001b[0m\u001b[0;34m.\u001b[0m\u001b[0m_pin_memory_device\u001b[0m\u001b[0;34m)\u001b[0m\u001b[0;34m\u001b[0m\u001b[0;34m\u001b[0m\u001b[0m\n",
            "\u001b[0;32m/usr/local/lib/python3.10/dist-packages/torch/utils/data/_utils/fetch.py\u001b[0m in \u001b[0;36mfetch\u001b[0;34m(self, possibly_batched_index)\u001b[0m\n\u001b[1;32m     49\u001b[0m                 \u001b[0mdata\u001b[0m \u001b[0;34m=\u001b[0m \u001b[0mself\u001b[0m\u001b[0;34m.\u001b[0m\u001b[0mdataset\u001b[0m\u001b[0;34m.\u001b[0m\u001b[0m__getitems__\u001b[0m\u001b[0;34m(\u001b[0m\u001b[0mpossibly_batched_index\u001b[0m\u001b[0;34m)\u001b[0m\u001b[0;34m\u001b[0m\u001b[0;34m\u001b[0m\u001b[0m\n\u001b[1;32m     50\u001b[0m             \u001b[0;32melse\u001b[0m\u001b[0;34m:\u001b[0m\u001b[0;34m\u001b[0m\u001b[0;34m\u001b[0m\u001b[0m\n\u001b[0;32m---> 51\u001b[0;31m                 \u001b[0mdata\u001b[0m \u001b[0;34m=\u001b[0m \u001b[0;34m[\u001b[0m\u001b[0mself\u001b[0m\u001b[0;34m.\u001b[0m\u001b[0mdataset\u001b[0m\u001b[0;34m[\u001b[0m\u001b[0midx\u001b[0m\u001b[0;34m]\u001b[0m \u001b[0;32mfor\u001b[0m \u001b[0midx\u001b[0m \u001b[0;32min\u001b[0m \u001b[0mpossibly_batched_index\u001b[0m\u001b[0;34m]\u001b[0m\u001b[0;34m\u001b[0m\u001b[0;34m\u001b[0m\u001b[0m\n\u001b[0m\u001b[1;32m     52\u001b[0m         \u001b[0;32melse\u001b[0m\u001b[0;34m:\u001b[0m\u001b[0;34m\u001b[0m\u001b[0;34m\u001b[0m\u001b[0m\n\u001b[1;32m     53\u001b[0m             \u001b[0mdata\u001b[0m \u001b[0;34m=\u001b[0m \u001b[0mself\u001b[0m\u001b[0;34m.\u001b[0m\u001b[0mdataset\u001b[0m\u001b[0;34m[\u001b[0m\u001b[0mpossibly_batched_index\u001b[0m\u001b[0;34m]\u001b[0m\u001b[0;34m\u001b[0m\u001b[0;34m\u001b[0m\u001b[0m\n",
            "\u001b[0;32m/usr/local/lib/python3.10/dist-packages/torch/utils/data/_utils/fetch.py\u001b[0m in \u001b[0;36m<listcomp>\u001b[0;34m(.0)\u001b[0m\n\u001b[1;32m     49\u001b[0m                 \u001b[0mdata\u001b[0m \u001b[0;34m=\u001b[0m \u001b[0mself\u001b[0m\u001b[0;34m.\u001b[0m\u001b[0mdataset\u001b[0m\u001b[0;34m.\u001b[0m\u001b[0m__getitems__\u001b[0m\u001b[0;34m(\u001b[0m\u001b[0mpossibly_batched_index\u001b[0m\u001b[0;34m)\u001b[0m\u001b[0;34m\u001b[0m\u001b[0;34m\u001b[0m\u001b[0m\n\u001b[1;32m     50\u001b[0m             \u001b[0;32melse\u001b[0m\u001b[0;34m:\u001b[0m\u001b[0;34m\u001b[0m\u001b[0;34m\u001b[0m\u001b[0m\n\u001b[0;32m---> 51\u001b[0;31m                 \u001b[0mdata\u001b[0m \u001b[0;34m=\u001b[0m \u001b[0;34m[\u001b[0m\u001b[0mself\u001b[0m\u001b[0;34m.\u001b[0m\u001b[0mdataset\u001b[0m\u001b[0;34m[\u001b[0m\u001b[0midx\u001b[0m\u001b[0;34m]\u001b[0m \u001b[0;32mfor\u001b[0m \u001b[0midx\u001b[0m \u001b[0;32min\u001b[0m \u001b[0mpossibly_batched_index\u001b[0m\u001b[0;34m]\u001b[0m\u001b[0;34m\u001b[0m\u001b[0;34m\u001b[0m\u001b[0m\n\u001b[0m\u001b[1;32m     52\u001b[0m         \u001b[0;32melse\u001b[0m\u001b[0;34m:\u001b[0m\u001b[0;34m\u001b[0m\u001b[0;34m\u001b[0m\u001b[0m\n\u001b[1;32m     53\u001b[0m             \u001b[0mdata\u001b[0m \u001b[0;34m=\u001b[0m \u001b[0mself\u001b[0m\u001b[0;34m.\u001b[0m\u001b[0mdataset\u001b[0m\u001b[0;34m[\u001b[0m\u001b[0mpossibly_batched_index\u001b[0m\u001b[0;34m]\u001b[0m\u001b[0;34m\u001b[0m\u001b[0;34m\u001b[0m\u001b[0m\n",
            "\u001b[0;32m/usr/local/lib/python3.10/dist-packages/torch/utils/data/dataset.py\u001b[0m in \u001b[0;36m__getitem__\u001b[0;34m(self, idx)\u001b[0m\n\u001b[1;32m    300\u001b[0m         \u001b[0;32melse\u001b[0m\u001b[0;34m:\u001b[0m\u001b[0;34m\u001b[0m\u001b[0;34m\u001b[0m\u001b[0m\n\u001b[1;32m    301\u001b[0m             \u001b[0msample_idx\u001b[0m \u001b[0;34m=\u001b[0m \u001b[0midx\u001b[0m \u001b[0;34m-\u001b[0m \u001b[0mself\u001b[0m\u001b[0;34m.\u001b[0m\u001b[0mcumulative_sizes\u001b[0m\u001b[0;34m[\u001b[0m\u001b[0mdataset_idx\u001b[0m \u001b[0;34m-\u001b[0m \u001b[0;36m1\u001b[0m\u001b[0;34m]\u001b[0m\u001b[0;34m\u001b[0m\u001b[0;34m\u001b[0m\u001b[0m\n\u001b[0;32m--> 302\u001b[0;31m         \u001b[0;32mreturn\u001b[0m \u001b[0mself\u001b[0m\u001b[0;34m.\u001b[0m\u001b[0mdatasets\u001b[0m\u001b[0;34m[\u001b[0m\u001b[0mdataset_idx\u001b[0m\u001b[0;34m]\u001b[0m\u001b[0;34m[\u001b[0m\u001b[0msample_idx\u001b[0m\u001b[0;34m]\u001b[0m\u001b[0;34m\u001b[0m\u001b[0;34m\u001b[0m\u001b[0m\n\u001b[0m\u001b[1;32m    303\u001b[0m \u001b[0;34m\u001b[0m\u001b[0m\n\u001b[1;32m    304\u001b[0m     \u001b[0;34m@\u001b[0m\u001b[0mproperty\u001b[0m\u001b[0;34m\u001b[0m\u001b[0;34m\u001b[0m\u001b[0m\n",
            "\u001b[0;32m/usr/local/lib/python3.10/dist-packages/torchvision/datasets/mnist.py\u001b[0m in \u001b[0;36m__getitem__\u001b[0;34m(self, index)\u001b[0m\n\u001b[1;32m    143\u001b[0m \u001b[0;34m\u001b[0m\u001b[0m\n\u001b[1;32m    144\u001b[0m         \u001b[0;32mif\u001b[0m \u001b[0mself\u001b[0m\u001b[0;34m.\u001b[0m\u001b[0mtransform\u001b[0m \u001b[0;32mis\u001b[0m \u001b[0;32mnot\u001b[0m \u001b[0;32mNone\u001b[0m\u001b[0;34m:\u001b[0m\u001b[0;34m\u001b[0m\u001b[0;34m\u001b[0m\u001b[0m\n\u001b[0;32m--> 145\u001b[0;31m             \u001b[0mimg\u001b[0m \u001b[0;34m=\u001b[0m \u001b[0mself\u001b[0m\u001b[0;34m.\u001b[0m\u001b[0mtransform\u001b[0m\u001b[0;34m(\u001b[0m\u001b[0mimg\u001b[0m\u001b[0;34m)\u001b[0m\u001b[0;34m\u001b[0m\u001b[0;34m\u001b[0m\u001b[0m\n\u001b[0m\u001b[1;32m    146\u001b[0m \u001b[0;34m\u001b[0m\u001b[0m\n\u001b[1;32m    147\u001b[0m         \u001b[0;32mif\u001b[0m \u001b[0mself\u001b[0m\u001b[0;34m.\u001b[0m\u001b[0mtarget_transform\u001b[0m \u001b[0;32mis\u001b[0m \u001b[0;32mnot\u001b[0m \u001b[0;32mNone\u001b[0m\u001b[0;34m:\u001b[0m\u001b[0;34m\u001b[0m\u001b[0;34m\u001b[0m\u001b[0m\n",
            "\u001b[0;32m/usr/local/lib/python3.10/dist-packages/torchvision/transforms/transforms.py\u001b[0m in \u001b[0;36m__call__\u001b[0;34m(self, img)\u001b[0m\n\u001b[1;32m     93\u001b[0m     \u001b[0;32mdef\u001b[0m \u001b[0m__call__\u001b[0m\u001b[0;34m(\u001b[0m\u001b[0mself\u001b[0m\u001b[0;34m,\u001b[0m \u001b[0mimg\u001b[0m\u001b[0;34m)\u001b[0m\u001b[0;34m:\u001b[0m\u001b[0;34m\u001b[0m\u001b[0;34m\u001b[0m\u001b[0m\n\u001b[1;32m     94\u001b[0m         \u001b[0;32mfor\u001b[0m \u001b[0mt\u001b[0m \u001b[0;32min\u001b[0m \u001b[0mself\u001b[0m\u001b[0;34m.\u001b[0m\u001b[0mtransforms\u001b[0m\u001b[0;34m:\u001b[0m\u001b[0;34m\u001b[0m\u001b[0;34m\u001b[0m\u001b[0m\n\u001b[0;32m---> 95\u001b[0;31m             \u001b[0mimg\u001b[0m \u001b[0;34m=\u001b[0m \u001b[0mt\u001b[0m\u001b[0;34m(\u001b[0m\u001b[0mimg\u001b[0m\u001b[0;34m)\u001b[0m\u001b[0;34m\u001b[0m\u001b[0;34m\u001b[0m\u001b[0m\n\u001b[0m\u001b[1;32m     96\u001b[0m         \u001b[0;32mreturn\u001b[0m \u001b[0mimg\u001b[0m\u001b[0;34m\u001b[0m\u001b[0;34m\u001b[0m\u001b[0m\n\u001b[1;32m     97\u001b[0m \u001b[0;34m\u001b[0m\u001b[0m\n",
            "\u001b[0;32m/usr/local/lib/python3.10/dist-packages/torchvision/transforms/transforms.py\u001b[0m in \u001b[0;36m__call__\u001b[0;34m(self, pic)\u001b[0m\n\u001b[1;32m    135\u001b[0m             \u001b[0mTensor\u001b[0m\u001b[0;34m:\u001b[0m \u001b[0mConverted\u001b[0m \u001b[0mimage\u001b[0m\u001b[0;34m.\u001b[0m\u001b[0;34m\u001b[0m\u001b[0;34m\u001b[0m\u001b[0m\n\u001b[1;32m    136\u001b[0m         \"\"\"\n\u001b[0;32m--> 137\u001b[0;31m         \u001b[0;32mreturn\u001b[0m \u001b[0mF\u001b[0m\u001b[0;34m.\u001b[0m\u001b[0mto_tensor\u001b[0m\u001b[0;34m(\u001b[0m\u001b[0mpic\u001b[0m\u001b[0;34m)\u001b[0m\u001b[0;34m\u001b[0m\u001b[0;34m\u001b[0m\u001b[0m\n\u001b[0m\u001b[1;32m    138\u001b[0m \u001b[0;34m\u001b[0m\u001b[0m\n\u001b[1;32m    139\u001b[0m     \u001b[0;32mdef\u001b[0m \u001b[0m__repr__\u001b[0m\u001b[0;34m(\u001b[0m\u001b[0mself\u001b[0m\u001b[0;34m)\u001b[0m \u001b[0;34m->\u001b[0m \u001b[0mstr\u001b[0m\u001b[0;34m:\u001b[0m\u001b[0;34m\u001b[0m\u001b[0;34m\u001b[0m\u001b[0m\n",
            "\u001b[0;32m/usr/local/lib/python3.10/dist-packages/torchvision/transforms/functional.py\u001b[0m in \u001b[0;36mto_tensor\u001b[0;34m(pic)\u001b[0m\n\u001b[1;32m    172\u001b[0m     \u001b[0mimg\u001b[0m \u001b[0;34m=\u001b[0m \u001b[0mimg\u001b[0m\u001b[0;34m.\u001b[0m\u001b[0mpermute\u001b[0m\u001b[0;34m(\u001b[0m\u001b[0;34m(\u001b[0m\u001b[0;36m2\u001b[0m\u001b[0;34m,\u001b[0m \u001b[0;36m0\u001b[0m\u001b[0;34m,\u001b[0m \u001b[0;36m1\u001b[0m\u001b[0;34m)\u001b[0m\u001b[0;34m)\u001b[0m\u001b[0;34m.\u001b[0m\u001b[0mcontiguous\u001b[0m\u001b[0;34m(\u001b[0m\u001b[0;34m)\u001b[0m\u001b[0;34m\u001b[0m\u001b[0;34m\u001b[0m\u001b[0m\n\u001b[1;32m    173\u001b[0m     \u001b[0;32mif\u001b[0m \u001b[0misinstance\u001b[0m\u001b[0;34m(\u001b[0m\u001b[0mimg\u001b[0m\u001b[0;34m,\u001b[0m \u001b[0mtorch\u001b[0m\u001b[0;34m.\u001b[0m\u001b[0mByteTensor\u001b[0m\u001b[0;34m)\u001b[0m\u001b[0;34m:\u001b[0m\u001b[0;34m\u001b[0m\u001b[0;34m\u001b[0m\u001b[0m\n\u001b[0;32m--> 174\u001b[0;31m         \u001b[0;32mreturn\u001b[0m \u001b[0mimg\u001b[0m\u001b[0;34m.\u001b[0m\u001b[0mto\u001b[0m\u001b[0;34m(\u001b[0m\u001b[0mdtype\u001b[0m\u001b[0;34m=\u001b[0m\u001b[0mdefault_float_dtype\u001b[0m\u001b[0;34m)\u001b[0m\u001b[0;34m.\u001b[0m\u001b[0mdiv\u001b[0m\u001b[0;34m(\u001b[0m\u001b[0;36m255\u001b[0m\u001b[0;34m)\u001b[0m\u001b[0;34m\u001b[0m\u001b[0;34m\u001b[0m\u001b[0m\n\u001b[0m\u001b[1;32m    175\u001b[0m     \u001b[0;32melse\u001b[0m\u001b[0;34m:\u001b[0m\u001b[0;34m\u001b[0m\u001b[0;34m\u001b[0m\u001b[0m\n\u001b[1;32m    176\u001b[0m         \u001b[0;32mreturn\u001b[0m \u001b[0mimg\u001b[0m\u001b[0;34m\u001b[0m\u001b[0;34m\u001b[0m\u001b[0m\n",
            "\u001b[0;31mKeyboardInterrupt\u001b[0m: "
          ]
        }
      ]
    },
    {
      "cell_type": "code",
      "source": [
        "from matplotlib import pyplot as plt\n",
        "\n",
        "plt.plot(losses[\"gen_loss\"])\n",
        "plt.plot(losses[\"disc_loss\"])\n",
        "\n",
        "plt.legend([\"Generator\", \"Discriminator\"])\n",
        "plt.xlabel(\"Epoch\")\n",
        "plt.ylabel(\"Loss\")\n",
        "\n",
        "plt.show()"
      ],
      "metadata": {
        "id": "pb4cxTiOzJue",
        "colab": {
          "base_uri": "https://localhost:8080/",
          "height": 451
        },
        "outputId": "720d3c8e-0cf3-4950-f5e2-a684941b40ff"
      },
      "execution_count": 75,
      "outputs": [
        {
          "output_type": "display_data",
          "data": {
            "text/plain": [
              "<Figure size 640x480 with 1 Axes>"
            ],
            "image/png": "[encoded data removed]"
          },
          "metadata": {}
        }
      ]
    },
    {
      "cell_type": "code",
      "source": [],
      "metadata": {
        "id": "veh41LITf1xF"
      },
      "execution_count": null,
      "outputs": []
    }
  ]
}