{
  "nbformat": 4,
  "nbformat_minor": 0,
  "metadata": {
    "colab": {
      "provenance": [],
      "gpuType": "T4",
      "include_colab_link": true
    },
    "kernelspec": {
      "name": "python3",
      "display_name": "Python 3"
    },
    "language_info": {
      "name": "python"
    },
    "accelerator": "GPU"
  },
  "cells": [
    {
      "cell_type": "markdown",
      "metadata": {
        "id": "view-in-github",
        "colab_type": "text"
      },
      "source": [
        "<a href=\"https://colab.research.google.com/github/imraunav/MNIST_GAN/blob/main/Training_cGAN_MNIST.ipynb\" target=\"_parent\"><img src=\"https://colab.research.google.com/assets/colab-badge.svg\" alt=\"Open In Colab\"/></a>"
      ]
    },
    {
      "cell_type": "code",
      "execution_count": 19,
      "metadata": {
        "id": "nqZHuIQDH31c"
      },
      "outputs": [],
      "source": [
        "import torch\n",
        "from torch import nn\n",
        "from torchvision.datasets import MNIST\n",
        "from torchvision import transforms\n",
        "from torchvision.utils import save_image\n",
        "from torch.utils.data import Dataset, DataLoader, ConcatDataset\n",
        "import os\n",
        "from time import time"
      ]
    },
    {
      "cell_type": "code",
      "source": [
        "seed = 32\n",
        "torch.cuda.manual_seed(seed)\n",
        "torch.manual_seed(seed)\n",
        "print(\"Seed set!\")"
      ],
      "metadata": {
        "colab": {
          "base_uri": "https://localhost:8080/"
        },
        "id": "-8ZcnYK9uhHn",
        "outputId": "44359b6d-5323-4775-c8d4-59e18f57f4d6"
      },
      "execution_count": 39,
      "outputs": [
        {
          "output_type": "stream",
          "name": "stdout",
          "text": [
            "Seed set!\n"
          ]
        }
      ]
    },
    {
      "cell_type": "code",
      "source": [
        "from google.colab import drive\n",
        "drive.mount('/content/drive', force_remount=True)"
      ],
      "metadata": {
        "colab": {
          "base_uri": "https://localhost:8080/"
        },
        "id": "kxIQjPuQtmgH",
        "outputId": "a172bd8f-5819-4a48-d236-cd91f24871dd"
      },
      "execution_count": 37,
      "outputs": [
        {
          "output_type": "stream",
          "name": "stdout",
          "text": [
            "Mounted at /content/drive\n"
          ]
        }
      ]
    },
    {
      "cell_type": "code",
      "source": [
        "transform = transforms.Compose(\n",
        "    [\n",
        "        transforms.ToTensor(),\n",
        "    ]\n",
        ")\n",
        "train_ds = MNIST(\"./MNIST\", download=True, train=True, transform=transform)\n",
        "test_ds = MNIST(\"./MNIST\", download=True, train=False, transform=transform)\n",
        "\n",
        "mnist_ds = ConcatDataset([train_ds, test_ds])"
      ],
      "metadata": {
        "id": "7TqA0pdgILI2"
      },
      "execution_count": 22,
      "outputs": []
    },
    {
      "cell_type": "code",
      "source": [
        "batch_size = 100\n",
        "dataloader = DataLoader(mnist_ds, batch_size=batch_size, shuffle=True)"
      ],
      "metadata": {
        "id": "NPl_wRIYIWj7"
      },
      "execution_count": 23,
      "outputs": []
    },
    {
      "cell_type": "code",
      "source": [
        "latent_dim = 512\n",
        "\n",
        "class Generator(nn.Module):\n",
        "    def __init__(self, hidden_dim=1024, num_classes=10):\n",
        "        super().__init__()\n",
        "        self.num_classes = num_classes\n",
        "        self.net = nn.Sequential(\n",
        "                nn.Linear(latent_dim+num_classes, hidden_dim),\n",
        "                nn.BatchNorm1d(hidden_dim),\n",
        "                nn.LeakyReLU(),\n",
        "\n",
        "                nn.Linear(hidden_dim, hidden_dim),\n",
        "                nn.BatchNorm1d(hidden_dim),\n",
        "                nn.LeakyReLU(),\n",
        "\n",
        "                nn.Linear(hidden_dim, 784),\n",
        "        )\n",
        "    def forward(self, noise, class_label):\n",
        "        batch_size = noise.size(0)\n",
        "        class_label = nn.functional.one_hot(class_label, self.num_classes)\n",
        "        input_vectors = torch.cat([noise, class_label], dim=1)\n",
        "        return self.net(input_vectors).view(batch_size, 1, 28, 28).sigmoid() # [B, C*H*W] -> [B, C, H, W]\n",
        "\n",
        "class Discriminator(nn.Module):\n",
        "    def __init__(self, num_classes=10):\n",
        "        super().__init__()\n",
        "        self.num_classes = num_classes\n",
        "        self.net = nn.Sequential(\n",
        "                nn.Linear(784+num_classes, 256),\n",
        "                nn.ReLU(),\n",
        "                nn.Dropout(p=0.3),\n",
        "\n",
        "                nn.Linear(256, 256),\n",
        "                nn.ReLU(),\n",
        "                nn.Dropout(p=0.3),\n",
        "\n",
        "                nn.Linear(256, 1),\n",
        "        )\n",
        "    def forward(self, img, class_label):\n",
        "        batch_size = img.size(0)\n",
        "        img = img.view(batch_size, -1)  # [B, C, H, W] -> [B, C*H*W]\n",
        "        class_label = nn.functional.one_hot(class_label, self.num_classes)\n",
        "        input_vectors = torch.cat([img, class_label], dim=1)\n",
        "        return self.net(input_vectors)"
      ],
      "metadata": {
        "id": "S9LR3XoILRJD"
      },
      "execution_count": 24,
      "outputs": []
    },
    {
      "cell_type": "code",
      "source": [
        "device = torch.device('cuda' if torch.cuda.is_available() else 'cpu')\n",
        "print(\"Device: \", device)"
      ],
      "metadata": {
        "colab": {
          "base_uri": "https://localhost:8080/"
        },
        "id": "E6TaySugOTdB",
        "outputId": "29864656-c3a4-47be-9a08-29717e3a2fcc"
      },
      "execution_count": 40,
      "outputs": [
        {
          "output_type": "stream",
          "name": "stdout",
          "text": [
            "Device:  cuda\n"
          ]
        }
      ]
    },
    {
      "cell_type": "code",
      "source": [
        "generator = Generator().to(device)\n",
        "discriminator = Discriminator().to(device)"
      ],
      "metadata": {
        "id": "tbQLBHg3OeRt"
      },
      "execution_count": 41,
      "outputs": []
    },
    {
      "cell_type": "code",
      "source": [
        "# noise = torch.rand((32, latent_dim), device=device)\n",
        "\n",
        "# img = generator(noise)\n",
        "# print(img.shape)\n",
        "\n",
        "# score = discriminator(img)\n",
        "# print(score.shape)"
      ],
      "metadata": {
        "id": "G2-XBw-AOI11"
      },
      "execution_count": 27,
      "outputs": []
    },
    {
      "cell_type": "code",
      "source": [
        "# dummy_latent = torch.rand((64, latent_dim), device=device)\n",
        "\n",
        "# dummy_img = generator(dummy_latent)"
      ],
      "metadata": {
        "id": "-ryXwqvp1ZlI"
      },
      "execution_count": 28,
      "outputs": []
    },
    {
      "cell_type": "code",
      "source": [
        "# dummy_img.shape"
      ],
      "metadata": {
        "id": "IuB8wGM91ZjD"
      },
      "execution_count": 29,
      "outputs": []
    },
    {
      "cell_type": "code",
      "source": [
        "# from IPython.display import Image\n",
        "# progress_path = \"drive/MyDrive/GAN_MNIST/progress\"\n",
        "# os.makedirs(progress_path, exist_ok=True)\n",
        "# save_image(dummy_img, progress_path+\"/dummy.png\", nrow=8)\n",
        "\n",
        "# Image(os.path.join(progress_path, 'dummy.png'))"
      ],
      "metadata": {
        "id": "B03_sUtm4mu6"
      },
      "execution_count": 30,
      "outputs": []
    },
    {
      "cell_type": "code",
      "source": [],
      "metadata": {
        "id": "JK3W3tnJ1Zeo"
      },
      "execution_count": 30,
      "outputs": []
    },
    {
      "cell_type": "code",
      "source": [
        "print(generator)\n",
        "print(discriminator)"
      ],
      "metadata": {
        "colab": {
          "base_uri": "https://localhost:8080/"
        },
        "id": "mUesBYB3PaUq",
        "outputId": "9d3fbd17-2c62-402a-8255-176074c3d2fc"
      },
      "execution_count": 31,
      "outputs": [
        {
          "output_type": "stream",
          "name": "stdout",
          "text": [
            "Generator(\n",
            "  (net): Sequential(\n",
            "    (0): Linear(in_features=522, out_features=1024, bias=True)\n",
            "    (1): BatchNorm1d(1024, eps=1e-05, momentum=0.1, affine=True, track_running_stats=True)\n",
            "    (2): LeakyReLU(negative_slope=0.01)\n",
            "    (3): Linear(in_features=1024, out_features=1024, bias=True)\n",
            "    (4): BatchNorm1d(1024, eps=1e-05, momentum=0.1, affine=True, track_running_stats=True)\n",
            "    (5): LeakyReLU(negative_slope=0.01)\n",
            "    (6): Linear(in_features=1024, out_features=784, bias=True)\n",
            "  )\n",
            ")\n",
            "Discriminator(\n",
            "  (net): Sequential(\n",
            "    (0): Linear(in_features=794, out_features=256, bias=True)\n",
            "    (1): ReLU()\n",
            "    (2): Dropout(p=0.3, inplace=False)\n",
            "    (3): Linear(in_features=256, out_features=256, bias=True)\n",
            "    (4): ReLU()\n",
            "    (5): Dropout(p=0.3, inplace=False)\n",
            "    (6): Linear(in_features=256, out_features=1, bias=True)\n",
            "  )\n",
            ")\n"
          ]
        }
      ]
    },
    {
      "cell_type": "code",
      "source": [
        "gen_opt = torch.optim.Adam(generator.parameters())\n",
        "disc_opt = torch.optim.Adam(discriminator.parameters())\n",
        "\n",
        "adv_crit = nn.BCEWithLogitsLoss().to(device)"
      ],
      "metadata": {
        "id": "65k__JDFPpfp"
      },
      "execution_count": 42,
      "outputs": []
    },
    {
      "cell_type": "code",
      "source": [
        "def train_gen(real_batch, real_labels):\n",
        "\n",
        "    generator.train()\n",
        "    discriminator.eval()\n",
        "\n",
        "    batch_size = real_batch.size(0)\n",
        "    z = torch.normal(0, 1, (batch_size, latent_dim), device=device)\n",
        "    fake_batch = generator(z, real_labels)\n",
        "    # with torch.no_grad():\n",
        "    #     score = discriminator(fake_batch)\n",
        "    score = discriminator(fake_batch, real_labels)\n",
        "    targets = torch.ones_like(score, device=device) # generator target is 1 for fake\n",
        "    loss = adv_crit(score, targets)\n",
        "\n",
        "    gen_opt.zero_grad()\n",
        "    loss.backward()\n",
        "    gen_opt.step()\n",
        "\n",
        "    return loss.item()\n",
        "\n",
        "def train_disc(real_batch, real_labels):\n",
        "\n",
        "    generator.eval()\n",
        "    discriminator.train()\n",
        "\n",
        "    batch_size = real_batch.size(0)\n",
        "    z = torch.normal(0, 1, (batch_size, latent_dim), device=device)\n",
        "    with torch.no_grad():\n",
        "        fake_batch = generator(z, real_labels)\n",
        "\n",
        "    all_batch = torch.cat([real_batch, fake_batch], dim=0)\n",
        "    all_labels = torch.cat([real_labels, real_labels], dim=0)\n",
        "    score = discriminator(all_batch, all_labels)\n",
        "    targets = torch.cat(\n",
        "        [\n",
        "            torch.ones((batch_size, 1), device=device),\n",
        "            torch.zeros((batch_size, 1), device=device),\n",
        "        ]\n",
        "    )\n",
        "\n",
        "    loss = adv_crit(score, targets)\n",
        "\n",
        "    disc_opt.zero_grad()\n",
        "    loss.backward()\n",
        "    disc_opt.step()\n",
        "\n",
        "    return loss.item()"
      ],
      "metadata": {
        "id": "JLCeZabKR-dF"
      },
      "execution_count": 43,
      "outputs": []
    },
    {
      "cell_type": "code",
      "source": [
        "def checkpoint(epoch, losses, CKPT_PATH, CKPT=\"checkpoint.pt\"):\n",
        "    progress_path = os.path.join(CKPT_PATH, \"progress\")\n",
        "\n",
        "    state = {\n",
        "        \"epoch\" : epoch,\n",
        "        \"generator\" : generator.state_dict(),\n",
        "        \"discriminator\" : discriminator.state_dict(),\n",
        "        \"gen_opt\" : gen_opt.state_dict(),\n",
        "        \"disc_opt\" : disc_opt.state_dict(),\n",
        "        \"losses\" : losses,\n",
        "    }\n",
        "\n",
        "    os.makedirs(CKPT_PATH, exist_ok=True)\n",
        "    torch.save(state, os.path.join(CKPT_PATH, CKPT))\n",
        "\n",
        "    generator.eval()\n",
        "    gen_batch = generator(sample_latent, sample_labels)\n",
        "\n",
        "    os.makedirs(progress_path, exist_ok=True)\n",
        "    save_image(gen_batch, os.path.join(progress_path, f\"epoch_{epoch+1}.png\"))\n",
        "\n",
        "    print(f\"! Checkpoint saved at {epoch+1}.\")"
      ],
      "metadata": {
        "id": "XcXbaD6NqkTA"
      },
      "execution_count": 44,
      "outputs": []
    },
    {
      "cell_type": "code",
      "source": [
        "def load_checkpoint(CKPT_PATH, CKPT=\"checkpoint.pt\"):\n",
        "    state = torch.load(os.path.join(CKPT_PATH, CKPT))\n",
        "    generator.load_state_dict(state[\"generator\"])\n",
        "    discriminator.load_state_dict(state[\"discriminator\"])\n",
        "\n",
        "    gen_opt.load_state_dict(state[\"gen_opt\"])\n",
        "    disc_opt.load_state_dict(state[\"disc_opt\"])\n",
        "\n",
        "    return state[\"epoch\"], state[\"losses\"]"
      ],
      "metadata": {
        "id": "VwN5-rnAsIOD"
      },
      "execution_count": 45,
      "outputs": []
    },
    {
      "cell_type": "code",
      "source": [
        "MAX_EPOCH = 200\n",
        "CKPT_PATH = \"drive/MyDrive/cGAN_MNIST\"\n",
        "CKPT_EVERY = 10\n",
        "sample_latent = torch.normal(0, 1, (64, latent_dim), device=device)\n",
        "sample_labels = torch.randint(0, 10, (64,), device=device)\n",
        "print(f\"Checkpoint labels to sample: {sample_labels}\")\n",
        "\n",
        "losses = {\n",
        "    \"gen_loss\" : [],\n",
        "    \"disc_loss\" : [],\n",
        "}\n",
        "\n",
        "start = 0\n",
        "# Load checkpoint if found\n",
        "if os.path.exists(CKPT_PATH+\"/checkpoint.pt\"):\n",
        "    print(\"Checkpoint found\")\n",
        "    print('Loading checkpoint...')\n",
        "    start, losses = load_checkpoint(CKPT_PATH)\n",
        "\n",
        "tic = time()\n",
        "for epoch in range(start, MAX_EPOCH):\n",
        "    print(f\"Epoch {epoch+1}\", end=\" \")\n",
        "    running_losses = {\n",
        "        \"gen_loss\" : [],\n",
        "        \"disc_loss\" : [],\n",
        "    }\n",
        "    for real_batch, labels in dataloader:\n",
        "\n",
        "        # some regularization for the discriminator for the initial stages\n",
        "        real_batch = real_batch.to(device) #+ (1/(epoch+0.1))*torch.rand_like(real_batch, device=device)\n",
        "        labels = labels.to(device)\n",
        "\n",
        "        disc_loss = train_disc(real_batch, labels)\n",
        "        gen_loss = train_gen(real_batch, labels)\n",
        "\n",
        "        running_losses[\"disc_loss\"].append(disc_loss)\n",
        "        running_losses[\"gen_loss\"].append(gen_loss)\n",
        "\n",
        "    for loss_name in ['gen_loss', \"disc_loss\"]:\n",
        "        epoch_loss = running_losses[loss_name]\n",
        "        losses[loss_name].append(sum(epoch_loss)/len(epoch_loss))\n",
        "\n",
        "    print(f\"| G_loss : {losses['gen_loss'][-1]:.4f}, D_loss : {losses['disc_loss'][-1]:.4f}\")\n",
        "\n",
        "    if epoch % CKPT_EVERY == 0:\n",
        "        checkpoint(epoch, losses, CKPT_PATH)\n",
        "        # pass\n",
        "toc = time()\n",
        "checkpoint(epoch, losses, CKPT_PATH)\n",
        "print(\"Training done!\")\n",
        "print(f\"Time taken to train: {(toc-tic)/60:.3f} mins\")"
      ],
      "metadata": {
        "id": "myszQSCqQM6S",
        "colab": {
          "base_uri": "https://localhost:8080/",
          "height": 1000
        },
        "outputId": "1204aca8-e8bd-4623-e5dd-21c97f226553"
      },
      "execution_count": 46,
      "outputs": [
        {
          "output_type": "stream",
          "name": "stdout",
          "text": [
            "Checkpoint labels to sample: tensor([4, 0, 9, 9, 4, 3, 9, 5, 8, 2, 2, 1, 4, 8, 6, 9, 9, 7, 4, 4, 6, 9, 6, 9,\n",
            "        8, 3, 6, 1, 9, 3, 6, 6, 6, 6, 3, 1, 5, 7, 4, 2, 7, 9, 1, 7, 0, 5, 7, 5,\n",
            "        5, 6, 5, 4, 6, 0, 3, 1, 6, 7, 1, 5, 6, 9, 2, 0], device='cuda:0')\n",
            "Epoch 1 | G_loss : 8.0282, D_loss : 0.0494\n",
            "! Checkpoint saved at 1.\n",
            "Epoch 2 | G_loss : 8.6006, D_loss : 0.0155\n",
            "Epoch 3 | G_loss : 7.9897, D_loss : 0.0375\n",
            "Epoch 4 | G_loss : 5.0995, D_loss : 0.0971\n",
            "Epoch 5 | G_loss : 3.9811, D_loss : 0.1622\n",
            "Epoch 6 | G_loss : 3.3338, D_loss : 0.2071\n",
            "Epoch 7 | G_loss : 2.6152, D_loss : 0.2923\n",
            "Epoch 8 | G_loss : 2.2117, D_loss : 0.3374\n",
            "Epoch 9 | G_loss : 1.9792, D_loss : 0.3890\n",
            "Epoch 10 | G_loss : 1.8973, D_loss : 0.4075\n",
            "Epoch 11 | G_loss : 1.7931, D_loss : 0.4333\n",
            "! Checkpoint saved at 11.\n",
            "Epoch 12 | G_loss : 1.6174, D_loss : 0.4684\n",
            "Epoch 13 | G_loss : 1.4958, D_loss : 0.4958\n",
            "Epoch 14 | G_loss : 1.4680, D_loss : 0.5092\n",
            "Epoch 15 | G_loss : 1.3643, D_loss : 0.5300\n",
            "Epoch 16 | G_loss : 1.3688, D_loss : 0.5332\n",
            "Epoch 17 | G_loss : 1.2229, D_loss : 0.5643\n",
            "Epoch 18 | G_loss : 1.2066, D_loss : 0.5688\n",
            "Epoch 19 | G_loss : 1.1660, D_loss : 0.5841\n",
            "Epoch 20 | G_loss : 1.1366, D_loss : 0.5914\n",
            "Epoch 21 | G_loss : 1.0982, D_loss : 0.6001\n",
            "! Checkpoint saved at 21.\n",
            "Epoch 22 | G_loss : 1.0641, D_loss : 0.6085\n",
            "Epoch 23 | G_loss : 1.0532, D_loss : 0.6098\n",
            "Epoch 24 | G_loss : 1.0144, D_loss : 0.6196\n",
            "Epoch 25 | G_loss : 1.0092, D_loss : 0.6187\n",
            "Epoch 26 | G_loss : 1.0653, D_loss : 0.6068\n",
            "Epoch 27 | G_loss : 0.9800, D_loss : 0.6184\n",
            "Epoch 28 | G_loss : 0.9507, D_loss : 0.6297\n",
            "Epoch 29 | G_loss : 0.9868, D_loss : 0.6199\n",
            "Epoch 30 | G_loss : 0.9920, D_loss : 0.6171\n",
            "Epoch 31 | G_loss : 0.9798, D_loss : 0.6193\n",
            "! Checkpoint saved at 31.\n",
            "Epoch 32 | G_loss : 0.9629, D_loss : 0.6270\n",
            "Epoch 33 | G_loss : 0.9565, D_loss : 0.6304\n",
            "Epoch 34 | G_loss : 0.9725, D_loss : 0.6240\n",
            "Epoch 35 | G_loss : 0.9373, D_loss : 0.6296\n",
            "Epoch 36 | G_loss : 0.9332, D_loss : 0.6332\n",
            "Epoch 37 | G_loss : 0.9920, D_loss : 0.6223\n",
            "Epoch 38 | G_loss : 0.9365, D_loss : 0.6307\n",
            "Epoch 39 | G_loss : 0.9476, D_loss : 0.6273\n",
            "Epoch 40 | G_loss : 0.9592, D_loss : 0.6257\n",
            "Epoch 41 | G_loss : 0.9421, D_loss : 0.6311\n",
            "! Checkpoint saved at 41.\n",
            "Epoch 42 | G_loss : 0.9456, D_loss : 0.6283\n",
            "Epoch 43 | G_loss : 0.9573, D_loss : 0.6264\n",
            "Epoch 44 | G_loss : 0.9524, D_loss : 0.6276\n",
            "Epoch 45 | G_loss : 0.9388, D_loss : 0.6308\n",
            "Epoch 46 | G_loss : 0.9424, D_loss : 0.6312\n",
            "Epoch 47 | G_loss : 0.9416, D_loss : 0.6309\n",
            "Epoch 48 | G_loss : 0.9290, D_loss : 0.6326\n",
            "Epoch 49 | G_loss : 0.9431, D_loss : 0.6299\n",
            "Epoch 50 | G_loss : 0.9331, D_loss : 0.6358\n",
            "Epoch 51 | G_loss : 0.9388, D_loss : 0.6317\n",
            "! Checkpoint saved at 51.\n",
            "Epoch 52 | G_loss : 0.9316, D_loss : 0.6364\n",
            "Epoch 53 | G_loss : 0.9344, D_loss : 0.6328\n",
            "Epoch 54 | G_loss : 0.9095, D_loss : 0.6401\n",
            "Epoch 55 | G_loss : 0.9223, D_loss : 0.6354\n",
            "Epoch 56 | G_loss : 0.9164, D_loss : 0.6386\n",
            "Epoch 57 | G_loss : 0.9166, D_loss : 0.6362\n",
            "Epoch 58 | G_loss : 0.9146, D_loss : 0.6386\n",
            "Epoch 59 | G_loss : 0.9320, D_loss : 0.6328\n",
            "Epoch 60 | G_loss : 0.9072, D_loss : 0.6393\n",
            "Epoch 61 | G_loss : 0.9048, D_loss : 0.6397\n",
            "! Checkpoint saved at 61.\n",
            "Epoch 62 | G_loss : 0.9341, D_loss : 0.6342\n",
            "Epoch 63 | G_loss : 0.9180, D_loss : 0.6364\n",
            "Epoch 64 | G_loss : 0.9163, D_loss : 0.6373\n",
            "Epoch 65 | G_loss : 0.9094, D_loss : 0.6386\n",
            "Epoch 66 | G_loss : 0.8955, D_loss : 0.6430\n",
            "Epoch 67 | G_loss : 0.9018, D_loss : 0.6414\n",
            "Epoch 68 | G_loss : 0.9120, D_loss : 0.6407\n",
            "Epoch 69 | G_loss : 0.9059, D_loss : 0.6395\n",
            "Epoch 70 | G_loss : 0.9139, D_loss : 0.6381\n",
            "Epoch 71 | G_loss : 0.9233, D_loss : 0.6370\n",
            "! Checkpoint saved at 71.\n",
            "Epoch 72 | G_loss : 0.9025, D_loss : 0.6432\n",
            "Epoch 73 | G_loss : 0.8905, D_loss : 0.6450\n",
            "Epoch 74 | G_loss : 0.8995, D_loss : 0.6417\n",
            "Epoch 75 | G_loss : 0.8990, D_loss : 0.6438\n",
            "Epoch 76 | G_loss : 0.8938, D_loss : 0.6452\n",
            "Epoch 77 | G_loss : 0.8850, D_loss : 0.6468\n",
            "Epoch 78 | G_loss : 0.8824, D_loss : 0.6469\n",
            "Epoch 79 | G_loss : 0.8771, D_loss : 0.6472\n",
            "Epoch 80 | G_loss : 0.8870, D_loss : 0.6472\n",
            "Epoch 81 | G_loss : 0.8883, D_loss : 0.6455\n",
            "! Checkpoint saved at 81.\n",
            "Epoch 82 | G_loss : 0.8721, D_loss : 0.6493\n",
            "Epoch 83 | G_loss : 0.8724, D_loss : 0.6501\n",
            "Epoch 84 | G_loss : 0.8691, D_loss : 0.6504\n",
            "Epoch 85 | G_loss : 0.8709, D_loss : 0.6501\n",
            "Epoch 86 | G_loss : 0.8716, D_loss : 0.6521\n",
            "Epoch 87 | G_loss : 0.8619, D_loss : 0.6521\n",
            "Epoch 88 | G_loss : 0.8754, D_loss : 0.6498\n",
            "Epoch 89 | G_loss : 0.8686, D_loss : 0.6525\n",
            "Epoch 90 | G_loss : 0.8573, D_loss : 0.6543\n",
            "Epoch 91 | G_loss : 0.8650, D_loss : 0.6513\n",
            "! Checkpoint saved at 91.\n",
            "Epoch 92 | G_loss : 0.8598, D_loss : 0.6544\n",
            "Epoch 93 | G_loss : 0.8631, D_loss : 0.6535\n",
            "Epoch 94 | G_loss : 0.8620, D_loss : 0.6540\n",
            "Epoch 95 | G_loss : 0.8453, D_loss : 0.6575\n",
            "Epoch 96 | G_loss : 0.8521, D_loss : 0.6543\n",
            "Epoch 97 | G_loss : 0.8593, D_loss : 0.6556\n",
            "Epoch 98 | G_loss : 0.8476, D_loss : 0.6574\n",
            "Epoch 99 | G_loss : 0.8456, D_loss : 0.6541\n",
            "Epoch 100 | G_loss : 0.8569, D_loss : 0.6532\n",
            "Epoch 101 | G_loss : 0.8609, D_loss : 0.6526\n",
            "! Checkpoint saved at 101.\n",
            "Epoch 102 | G_loss : 0.8599, D_loss : 0.6529\n",
            "Epoch 103 | G_loss : 0.8611, D_loss : 0.6540\n",
            "Epoch 104 | G_loss : 0.8586, D_loss : 0.6544\n",
            "Epoch 105 | G_loss : 0.8593, D_loss : 0.6549\n",
            "Epoch 106 | G_loss : 0.8560, D_loss : 0.6541\n",
            "Epoch 107 | G_loss : 0.8673, D_loss : 0.6528\n",
            "Epoch 108 | G_loss : 0.8638, D_loss : 0.6520\n",
            "Epoch 109 | G_loss : 0.8670, D_loss : 0.6529\n",
            "Epoch 110 | G_loss : 0.8588, D_loss : 0.6537\n",
            "Epoch 111 | G_loss : 0.8652, D_loss : 0.6514\n",
            "! Checkpoint saved at 111.\n",
            "Epoch 112 | G_loss : 0.8647, D_loss : 0.6514\n",
            "Epoch 113 | G_loss : 0.8691, D_loss : 0.6509\n",
            "Epoch 114 | G_loss : 0.8732, D_loss : 0.6504\n",
            "Epoch 115 | G_loss : 0.8756, D_loss : 0.6502\n",
            "Epoch 116 | G_loss : 0.8710, D_loss : 0.6501\n",
            "Epoch 117 | G_loss : 0.8745, D_loss : 0.6488\n",
            "Epoch 118 | G_loss : 0.8816, D_loss : 0.6477\n",
            "Epoch 119 | G_loss : 0.8812, D_loss : 0.6496\n",
            "Epoch 120 | G_loss : 0.8770, D_loss : 0.6495\n",
            "Epoch 121 | G_loss : 0.8832, D_loss : 0.6482\n",
            "! Checkpoint saved at 121.\n",
            "Epoch 122 "
          ]
        },
        {
          "output_type": "error",
          "ename": "KeyboardInterrupt",
          "evalue": "",
          "traceback": [
            "\u001b[0;31m---------------------------------------------------------------------------\u001b[0m",
            "\u001b[0;31mKeyboardInterrupt\u001b[0m                         Traceback (most recent call last)",
            "\u001b[0;32m<ipython-input-46-c88beb57625d>\u001b[0m in \u001b[0;36m<cell line: 21>\u001b[0;34m()\u001b[0m\n\u001b[1;32m     25\u001b[0m         \u001b[0;34m\"disc_loss\"\u001b[0m \u001b[0;34m:\u001b[0m \u001b[0;34m[\u001b[0m\u001b[0;34m]\u001b[0m\u001b[0;34m,\u001b[0m\u001b[0;34m\u001b[0m\u001b[0;34m\u001b[0m\u001b[0m\n\u001b[1;32m     26\u001b[0m     }\n\u001b[0;32m---> 27\u001b[0;31m     \u001b[0;32mfor\u001b[0m \u001b[0mreal_batch\u001b[0m\u001b[0;34m,\u001b[0m \u001b[0mlabels\u001b[0m \u001b[0;32min\u001b[0m \u001b[0mdataloader\u001b[0m\u001b[0;34m:\u001b[0m\u001b[0;34m\u001b[0m\u001b[0;34m\u001b[0m\u001b[0m\n\u001b[0m\u001b[1;32m     28\u001b[0m \u001b[0;34m\u001b[0m\u001b[0m\n\u001b[1;32m     29\u001b[0m         \u001b[0;31m# some regularization for the discriminator for the initial stages\u001b[0m\u001b[0;34m\u001b[0m\u001b[0;34m\u001b[0m\u001b[0m\n",
            "\u001b[0;32m/usr/local/lib/python3.10/dist-packages/torch/utils/data/dataloader.py\u001b[0m in \u001b[0;36m__next__\u001b[0;34m(self)\u001b[0m\n\u001b[1;32m    628\u001b[0m                 \u001b[0;31m# TODO(https://github.com/pytorch/pytorch/issues/76750)\u001b[0m\u001b[0;34m\u001b[0m\u001b[0;34m\u001b[0m\u001b[0m\n\u001b[1;32m    629\u001b[0m                 \u001b[0mself\u001b[0m\u001b[0;34m.\u001b[0m\u001b[0m_reset\u001b[0m\u001b[0;34m(\u001b[0m\u001b[0;34m)\u001b[0m  \u001b[0;31m# type: ignore[call-arg]\u001b[0m\u001b[0;34m\u001b[0m\u001b[0;34m\u001b[0m\u001b[0m\n\u001b[0;32m--> 630\u001b[0;31m             \u001b[0mdata\u001b[0m \u001b[0;34m=\u001b[0m \u001b[0mself\u001b[0m\u001b[0;34m.\u001b[0m\u001b[0m_next_data\u001b[0m\u001b[0;34m(\u001b[0m\u001b[0;34m)\u001b[0m\u001b[0;34m\u001b[0m\u001b[0;34m\u001b[0m\u001b[0m\n\u001b[0m\u001b[1;32m    631\u001b[0m             \u001b[0mself\u001b[0m\u001b[0;34m.\u001b[0m\u001b[0m_num_yielded\u001b[0m \u001b[0;34m+=\u001b[0m \u001b[0;36m1\u001b[0m\u001b[0;34m\u001b[0m\u001b[0;34m\u001b[0m\u001b[0m\n\u001b[1;32m    632\u001b[0m             \u001b[0;32mif\u001b[0m \u001b[0mself\u001b[0m\u001b[0;34m.\u001b[0m\u001b[0m_dataset_kind\u001b[0m \u001b[0;34m==\u001b[0m \u001b[0m_DatasetKind\u001b[0m\u001b[0;34m.\u001b[0m\u001b[0mIterable\u001b[0m \u001b[0;32mand\u001b[0m\u001b[0;31m \u001b[0m\u001b[0;31m\\\u001b[0m\u001b[0;34m\u001b[0m\u001b[0;34m\u001b[0m\u001b[0m\n",
            "\u001b[0;32m/usr/local/lib/python3.10/dist-packages/torch/utils/data/dataloader.py\u001b[0m in \u001b[0;36m_next_data\u001b[0;34m(self)\u001b[0m\n\u001b[1;32m    672\u001b[0m     \u001b[0;32mdef\u001b[0m \u001b[0m_next_data\u001b[0m\u001b[0;34m(\u001b[0m\u001b[0mself\u001b[0m\u001b[0;34m)\u001b[0m\u001b[0;34m:\u001b[0m\u001b[0;34m\u001b[0m\u001b[0;34m\u001b[0m\u001b[0m\n\u001b[1;32m    673\u001b[0m         \u001b[0mindex\u001b[0m \u001b[0;34m=\u001b[0m \u001b[0mself\u001b[0m\u001b[0;34m.\u001b[0m\u001b[0m_next_index\u001b[0m\u001b[0;34m(\u001b[0m\u001b[0;34m)\u001b[0m  \u001b[0;31m# may raise StopIteration\u001b[0m\u001b[0;34m\u001b[0m\u001b[0;34m\u001b[0m\u001b[0m\n\u001b[0;32m--> 674\u001b[0;31m         \u001b[0mdata\u001b[0m \u001b[0;34m=\u001b[0m \u001b[0mself\u001b[0m\u001b[0;34m.\u001b[0m\u001b[0m_dataset_fetcher\u001b[0m\u001b[0;34m.\u001b[0m\u001b[0mfetch\u001b[0m\u001b[0;34m(\u001b[0m\u001b[0mindex\u001b[0m\u001b[0;34m)\u001b[0m  \u001b[0;31m# may raise StopIteration\u001b[0m\u001b[0;34m\u001b[0m\u001b[0;34m\u001b[0m\u001b[0m\n\u001b[0m\u001b[1;32m    675\u001b[0m         \u001b[0;32mif\u001b[0m \u001b[0mself\u001b[0m\u001b[0;34m.\u001b[0m\u001b[0m_pin_memory\u001b[0m\u001b[0;34m:\u001b[0m\u001b[0;34m\u001b[0m\u001b[0;34m\u001b[0m\u001b[0m\n\u001b[1;32m    676\u001b[0m             \u001b[0mdata\u001b[0m \u001b[0;34m=\u001b[0m \u001b[0m_utils\u001b[0m\u001b[0;34m.\u001b[0m\u001b[0mpin_memory\u001b[0m\u001b[0;34m.\u001b[0m\u001b[0mpin_memory\u001b[0m\u001b[0;34m(\u001b[0m\u001b[0mdata\u001b[0m\u001b[0;34m,\u001b[0m \u001b[0mself\u001b[0m\u001b[0;34m.\u001b[0m\u001b[0m_pin_memory_device\u001b[0m\u001b[0;34m)\u001b[0m\u001b[0;34m\u001b[0m\u001b[0;34m\u001b[0m\u001b[0m\n",
            "\u001b[0;32m/usr/local/lib/python3.10/dist-packages/torch/utils/data/_utils/fetch.py\u001b[0m in \u001b[0;36mfetch\u001b[0;34m(self, possibly_batched_index)\u001b[0m\n\u001b[1;32m     49\u001b[0m                 \u001b[0mdata\u001b[0m \u001b[0;34m=\u001b[0m \u001b[0mself\u001b[0m\u001b[0;34m.\u001b[0m\u001b[0mdataset\u001b[0m\u001b[0;34m.\u001b[0m\u001b[0m__getitems__\u001b[0m\u001b[0;34m(\u001b[0m\u001b[0mpossibly_batched_index\u001b[0m\u001b[0;34m)\u001b[0m\u001b[0;34m\u001b[0m\u001b[0;34m\u001b[0m\u001b[0m\n\u001b[1;32m     50\u001b[0m             \u001b[0;32melse\u001b[0m\u001b[0;34m:\u001b[0m\u001b[0;34m\u001b[0m\u001b[0;34m\u001b[0m\u001b[0m\n\u001b[0;32m---> 51\u001b[0;31m                 \u001b[0mdata\u001b[0m \u001b[0;34m=\u001b[0m \u001b[0;34m[\u001b[0m\u001b[0mself\u001b[0m\u001b[0;34m.\u001b[0m\u001b[0mdataset\u001b[0m\u001b[0;34m[\u001b[0m\u001b[0midx\u001b[0m\u001b[0;34m]\u001b[0m \u001b[0;32mfor\u001b[0m \u001b[0midx\u001b[0m \u001b[0;32min\u001b[0m \u001b[0mpossibly_batched_index\u001b[0m\u001b[0;34m]\u001b[0m\u001b[0;34m\u001b[0m\u001b[0;34m\u001b[0m\u001b[0m\n\u001b[0m\u001b[1;32m     52\u001b[0m         \u001b[0;32melse\u001b[0m\u001b[0;34m:\u001b[0m\u001b[0;34m\u001b[0m\u001b[0;34m\u001b[0m\u001b[0m\n\u001b[1;32m     53\u001b[0m             \u001b[0mdata\u001b[0m \u001b[0;34m=\u001b[0m \u001b[0mself\u001b[0m\u001b[0;34m.\u001b[0m\u001b[0mdataset\u001b[0m\u001b[0;34m[\u001b[0m\u001b[0mpossibly_batched_index\u001b[0m\u001b[0;34m]\u001b[0m\u001b[0;34m\u001b[0m\u001b[0;34m\u001b[0m\u001b[0m\n",
            "\u001b[0;32m/usr/local/lib/python3.10/dist-packages/torch/utils/data/_utils/fetch.py\u001b[0m in \u001b[0;36m<listcomp>\u001b[0;34m(.0)\u001b[0m\n\u001b[1;32m     49\u001b[0m                 \u001b[0mdata\u001b[0m \u001b[0;34m=\u001b[0m \u001b[0mself\u001b[0m\u001b[0;34m.\u001b[0m\u001b[0mdataset\u001b[0m\u001b[0;34m.\u001b[0m\u001b[0m__getitems__\u001b[0m\u001b[0;34m(\u001b[0m\u001b[0mpossibly_batched_index\u001b[0m\u001b[0;34m)\u001b[0m\u001b[0;34m\u001b[0m\u001b[0;34m\u001b[0m\u001b[0m\n\u001b[1;32m     50\u001b[0m             \u001b[0;32melse\u001b[0m\u001b[0;34m:\u001b[0m\u001b[0;34m\u001b[0m\u001b[0;34m\u001b[0m\u001b[0m\n\u001b[0;32m---> 51\u001b[0;31m                 \u001b[0mdata\u001b[0m \u001b[0;34m=\u001b[0m \u001b[0;34m[\u001b[0m\u001b[0mself\u001b[0m\u001b[0;34m.\u001b[0m\u001b[0mdataset\u001b[0m\u001b[0;34m[\u001b[0m\u001b[0midx\u001b[0m\u001b[0;34m]\u001b[0m \u001b[0;32mfor\u001b[0m \u001b[0midx\u001b[0m \u001b[0;32min\u001b[0m \u001b[0mpossibly_batched_index\u001b[0m\u001b[0;34m]\u001b[0m\u001b[0;34m\u001b[0m\u001b[0;34m\u001b[0m\u001b[0m\n\u001b[0m\u001b[1;32m     52\u001b[0m         \u001b[0;32melse\u001b[0m\u001b[0;34m:\u001b[0m\u001b[0;34m\u001b[0m\u001b[0;34m\u001b[0m\u001b[0m\n\u001b[1;32m     53\u001b[0m             \u001b[0mdata\u001b[0m \u001b[0;34m=\u001b[0m \u001b[0mself\u001b[0m\u001b[0;34m.\u001b[0m\u001b[0mdataset\u001b[0m\u001b[0;34m[\u001b[0m\u001b[0mpossibly_batched_index\u001b[0m\u001b[0;34m]\u001b[0m\u001b[0;34m\u001b[0m\u001b[0;34m\u001b[0m\u001b[0m\n",
            "\u001b[0;32m/usr/local/lib/python3.10/dist-packages/torch/utils/data/dataset.py\u001b[0m in \u001b[0;36m__getitem__\u001b[0;34m(self, idx)\u001b[0m\n\u001b[1;32m    300\u001b[0m         \u001b[0;32melse\u001b[0m\u001b[0;34m:\u001b[0m\u001b[0;34m\u001b[0m\u001b[0;34m\u001b[0m\u001b[0m\n\u001b[1;32m    301\u001b[0m             \u001b[0msample_idx\u001b[0m \u001b[0;34m=\u001b[0m \u001b[0midx\u001b[0m \u001b[0;34m-\u001b[0m \u001b[0mself\u001b[0m\u001b[0;34m.\u001b[0m\u001b[0mcumulative_sizes\u001b[0m\u001b[0;34m[\u001b[0m\u001b[0mdataset_idx\u001b[0m \u001b[0;34m-\u001b[0m \u001b[0;36m1\u001b[0m\u001b[0;34m]\u001b[0m\u001b[0;34m\u001b[0m\u001b[0;34m\u001b[0m\u001b[0m\n\u001b[0;32m--> 302\u001b[0;31m         \u001b[0;32mreturn\u001b[0m \u001b[0mself\u001b[0m\u001b[0;34m.\u001b[0m\u001b[0mdatasets\u001b[0m\u001b[0;34m[\u001b[0m\u001b[0mdataset_idx\u001b[0m\u001b[0;34m]\u001b[0m\u001b[0;34m[\u001b[0m\u001b[0msample_idx\u001b[0m\u001b[0;34m]\u001b[0m\u001b[0;34m\u001b[0m\u001b[0;34m\u001b[0m\u001b[0m\n\u001b[0m\u001b[1;32m    303\u001b[0m \u001b[0;34m\u001b[0m\u001b[0m\n\u001b[1;32m    304\u001b[0m     \u001b[0;34m@\u001b[0m\u001b[0mproperty\u001b[0m\u001b[0;34m\u001b[0m\u001b[0;34m\u001b[0m\u001b[0m\n",
            "\u001b[0;32m/usr/local/lib/python3.10/dist-packages/torchvision/datasets/mnist.py\u001b[0m in \u001b[0;36m__getitem__\u001b[0;34m(self, index)\u001b[0m\n\u001b[1;32m    143\u001b[0m \u001b[0;34m\u001b[0m\u001b[0m\n\u001b[1;32m    144\u001b[0m         \u001b[0;32mif\u001b[0m \u001b[0mself\u001b[0m\u001b[0;34m.\u001b[0m\u001b[0mtransform\u001b[0m \u001b[0;32mis\u001b[0m \u001b[0;32mnot\u001b[0m \u001b[0;32mNone\u001b[0m\u001b[0;34m:\u001b[0m\u001b[0;34m\u001b[0m\u001b[0;34m\u001b[0m\u001b[0m\n\u001b[0;32m--> 145\u001b[0;31m             \u001b[0mimg\u001b[0m \u001b[0;34m=\u001b[0m \u001b[0mself\u001b[0m\u001b[0;34m.\u001b[0m\u001b[0mtransform\u001b[0m\u001b[0;34m(\u001b[0m\u001b[0mimg\u001b[0m\u001b[0;34m)\u001b[0m\u001b[0;34m\u001b[0m\u001b[0;34m\u001b[0m\u001b[0m\n\u001b[0m\u001b[1;32m    146\u001b[0m \u001b[0;34m\u001b[0m\u001b[0m\n\u001b[1;32m    147\u001b[0m         \u001b[0;32mif\u001b[0m \u001b[0mself\u001b[0m\u001b[0;34m.\u001b[0m\u001b[0mtarget_transform\u001b[0m \u001b[0;32mis\u001b[0m \u001b[0;32mnot\u001b[0m \u001b[0;32mNone\u001b[0m\u001b[0;34m:\u001b[0m\u001b[0;34m\u001b[0m\u001b[0;34m\u001b[0m\u001b[0m\n",
            "\u001b[0;32m/usr/local/lib/python3.10/dist-packages/torchvision/transforms/transforms.py\u001b[0m in \u001b[0;36m__call__\u001b[0;34m(self, img)\u001b[0m\n\u001b[1;32m     93\u001b[0m     \u001b[0;32mdef\u001b[0m \u001b[0m__call__\u001b[0m\u001b[0;34m(\u001b[0m\u001b[0mself\u001b[0m\u001b[0;34m,\u001b[0m \u001b[0mimg\u001b[0m\u001b[0;34m)\u001b[0m\u001b[0;34m:\u001b[0m\u001b[0;34m\u001b[0m\u001b[0;34m\u001b[0m\u001b[0m\n\u001b[1;32m     94\u001b[0m         \u001b[0;32mfor\u001b[0m \u001b[0mt\u001b[0m \u001b[0;32min\u001b[0m \u001b[0mself\u001b[0m\u001b[0;34m.\u001b[0m\u001b[0mtransforms\u001b[0m\u001b[0;34m:\u001b[0m\u001b[0;34m\u001b[0m\u001b[0;34m\u001b[0m\u001b[0m\n\u001b[0;32m---> 95\u001b[0;31m             \u001b[0mimg\u001b[0m \u001b[0;34m=\u001b[0m \u001b[0mt\u001b[0m\u001b[0;34m(\u001b[0m\u001b[0mimg\u001b[0m\u001b[0;34m)\u001b[0m\u001b[0;34m\u001b[0m\u001b[0;34m\u001b[0m\u001b[0m\n\u001b[0m\u001b[1;32m     96\u001b[0m         \u001b[0;32mreturn\u001b[0m \u001b[0mimg\u001b[0m\u001b[0;34m\u001b[0m\u001b[0;34m\u001b[0m\u001b[0m\n\u001b[1;32m     97\u001b[0m \u001b[0;34m\u001b[0m\u001b[0m\n",
            "\u001b[0;32m/usr/local/lib/python3.10/dist-packages/torchvision/transforms/transforms.py\u001b[0m in \u001b[0;36m__call__\u001b[0;34m(self, pic)\u001b[0m\n\u001b[1;32m    135\u001b[0m             \u001b[0mTensor\u001b[0m\u001b[0;34m:\u001b[0m \u001b[0mConverted\u001b[0m \u001b[0mimage\u001b[0m\u001b[0;34m.\u001b[0m\u001b[0;34m\u001b[0m\u001b[0;34m\u001b[0m\u001b[0m\n\u001b[1;32m    136\u001b[0m         \"\"\"\n\u001b[0;32m--> 137\u001b[0;31m         \u001b[0;32mreturn\u001b[0m \u001b[0mF\u001b[0m\u001b[0;34m.\u001b[0m\u001b[0mto_tensor\u001b[0m\u001b[0;34m(\u001b[0m\u001b[0mpic\u001b[0m\u001b[0;34m)\u001b[0m\u001b[0;34m\u001b[0m\u001b[0;34m\u001b[0m\u001b[0m\n\u001b[0m\u001b[1;32m    138\u001b[0m \u001b[0;34m\u001b[0m\u001b[0m\n\u001b[1;32m    139\u001b[0m     \u001b[0;32mdef\u001b[0m \u001b[0m__repr__\u001b[0m\u001b[0;34m(\u001b[0m\u001b[0mself\u001b[0m\u001b[0;34m)\u001b[0m \u001b[0;34m->\u001b[0m \u001b[0mstr\u001b[0m\u001b[0;34m:\u001b[0m\u001b[0;34m\u001b[0m\u001b[0;34m\u001b[0m\u001b[0m\n",
            "\u001b[0;32m/usr/local/lib/python3.10/dist-packages/torchvision/transforms/functional.py\u001b[0m in \u001b[0;36mto_tensor\u001b[0;34m(pic)\u001b[0m\n\u001b[1;32m    172\u001b[0m     \u001b[0mimg\u001b[0m \u001b[0;34m=\u001b[0m \u001b[0mimg\u001b[0m\u001b[0;34m.\u001b[0m\u001b[0mpermute\u001b[0m\u001b[0;34m(\u001b[0m\u001b[0;34m(\u001b[0m\u001b[0;36m2\u001b[0m\u001b[0;34m,\u001b[0m \u001b[0;36m0\u001b[0m\u001b[0;34m,\u001b[0m \u001b[0;36m1\u001b[0m\u001b[0;34m)\u001b[0m\u001b[0;34m)\u001b[0m\u001b[0;34m.\u001b[0m\u001b[0mcontiguous\u001b[0m\u001b[0;34m(\u001b[0m\u001b[0;34m)\u001b[0m\u001b[0;34m\u001b[0m\u001b[0;34m\u001b[0m\u001b[0m\n\u001b[1;32m    173\u001b[0m     \u001b[0;32mif\u001b[0m \u001b[0misinstance\u001b[0m\u001b[0;34m(\u001b[0m\u001b[0mimg\u001b[0m\u001b[0;34m,\u001b[0m \u001b[0mtorch\u001b[0m\u001b[0;34m.\u001b[0m\u001b[0mByteTensor\u001b[0m\u001b[0;34m)\u001b[0m\u001b[0;34m:\u001b[0m\u001b[0;34m\u001b[0m\u001b[0;34m\u001b[0m\u001b[0m\n\u001b[0;32m--> 174\u001b[0;31m         \u001b[0;32mreturn\u001b[0m \u001b[0mimg\u001b[0m\u001b[0;34m.\u001b[0m\u001b[0mto\u001b[0m\u001b[0;34m(\u001b[0m\u001b[0mdtype\u001b[0m\u001b[0;34m=\u001b[0m\u001b[0mdefault_float_dtype\u001b[0m\u001b[0;34m)\u001b[0m\u001b[0;34m.\u001b[0m\u001b[0mdiv\u001b[0m\u001b[0;34m(\u001b[0m\u001b[0;36m255\u001b[0m\u001b[0;34m)\u001b[0m\u001b[0;34m\u001b[0m\u001b[0;34m\u001b[0m\u001b[0m\n\u001b[0m\u001b[1;32m    175\u001b[0m     \u001b[0;32melse\u001b[0m\u001b[0;34m:\u001b[0m\u001b[0;34m\u001b[0m\u001b[0;34m\u001b[0m\u001b[0m\n\u001b[1;32m    176\u001b[0m         \u001b[0;32mreturn\u001b[0m \u001b[0mimg\u001b[0m\u001b[0;34m\u001b[0m\u001b[0;34m\u001b[0m\u001b[0m\n",
            "\u001b[0;31mKeyboardInterrupt\u001b[0m: "
          ]
        }
      ]
    },
    {
      "cell_type": "code",
      "source": [
        "from matplotlib import pyplot as plt\n",
        "\n",
        "plt.plot(losses[\"gen_loss\"])\n",
        "plt.plot(losses[\"disc_loss\"])\n",
        "\n",
        "plt.legend([\"Generator\", \"Discriminator\"])\n",
        "plt.xlabel(\"Epoch\")\n",
        "plt.ylabel(\"Loss\")\n",
        "\n",
        "plt.show()"
      ],
      "metadata": {
        "id": "pb4cxTiOzJue",
        "colab": {
          "base_uri": "https://localhost:8080/",
          "height": 449
        },
        "outputId": "a44aa070-ab84-4727-b21d-cdebee7c8eff"
      },
      "execution_count": 47,
      "outputs": [
        {
          "output_type": "display_data",
          "data": {
            "text/plain": [
              "<Figure size 640x480 with 1 Axes>"
            ],
            "image/png": "[encoded data removed]"
          },
          "metadata": {}
        }
      ]
    },
    {
      "cell_type": "code",
      "source": [],
      "metadata": {
        "id": "veh41LITf1xF"
      },
      "execution_count": null,
      "outputs": []
    }
  ]
}