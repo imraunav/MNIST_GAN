{
  "nbformat": 4,
  "nbformat_minor": 0,
  "metadata": {
    "colab": {
      "provenance": [],
      "gpuType": "T4",
      "include_colab_link": true
    },
    "kernelspec": {
      "name": "python3",
      "display_name": "Python 3"
    },
    "language_info": {
      "name": "python"
    },
    "accelerator": "GPU"
  },
  "cells": [
    {
      "cell_type": "markdown",
      "metadata": {
        "id": "view-in-github",
        "colab_type": "text"
      },
      "source": [
        "<a href=\"https://colab.research.google.com/github/imraunav/MNIST_GAN/blob/main/Training_cGAN_MNIST.ipynb\" target=\"_parent\"><img src=\"https://colab.research.google.com/assets/colab-badge.svg\" alt=\"Open In Colab\"/></a>"
      ]
    },
    {
      "cell_type": "code",
      "execution_count": 1,
      "metadata": {
        "id": "nqZHuIQDH31c"
      },
      "outputs": [],
      "source": [
        "import torch\n",
        "from torch import nn\n",
        "from torchvision.datasets import MNIST\n",
        "from torchvision import transforms\n",
        "from torchvision.utils import save_image\n",
        "from torch.utils.data import Dataset, DataLoader, ConcatDataset\n",
        "import os\n",
        "from time import time"
      ]
    },
    {
      "cell_type": "code",
      "source": [
        "seed = 32\n",
        "torch.cuda.manual_seed(seed)\n",
        "torch.manual_seed(seed)\n",
        "print(\"Seed set!\")"
      ],
      "metadata": {
        "colab": {
          "base_uri": "https://localhost:8080/"
        },
        "id": "-8ZcnYK9uhHn",
        "outputId": "d466d126-2a69-4f11-a765-054cbf0f4f29"
      },
      "execution_count": 2,
      "outputs": [
        {
          "output_type": "stream",
          "name": "stdout",
          "text": [
            "Seed set!\n"
          ]
        }
      ]
    },
    {
      "cell_type": "code",
      "source": [
        "from google.colab import drive\n",
        "drive.mount('/content/drive', force_remount=True)"
      ],
      "metadata": {
        "colab": {
          "base_uri": "https://localhost:8080/"
        },
        "id": "kxIQjPuQtmgH",
        "outputId": "7b98717d-6b11-44bc-9fde-8b0e0c1c90fc"
      },
      "execution_count": 3,
      "outputs": [
        {
          "output_type": "stream",
          "name": "stdout",
          "text": [
            "Mounted at /content/drive\n"
          ]
        }
      ]
    },
    {
      "cell_type": "code",
      "source": [
        "transform = transforms.Compose(\n",
        "    [\n",
        "        transforms.ToTensor(),\n",
        "    ]\n",
        ")\n",
        "train_ds = MNIST(\"./MNIST\", download=True, train=True, transform=transform)\n",
        "test_ds = MNIST(\"./MNIST\", download=True, train=False, transform=transform)\n",
        "\n",
        "mnist_ds = ConcatDataset([train_ds, test_ds])"
      ],
      "metadata": {
        "id": "7TqA0pdgILI2",
        "outputId": "8d52a713-e4ed-4de5-ff0a-f72b51ebb5e5",
        "colab": {
          "base_uri": "https://localhost:8080/"
        }
      },
      "execution_count": 4,
      "outputs": [
        {
          "output_type": "stream",
          "name": "stdout",
          "text": [
            "Downloading http://yann.lecun.com/exdb/mnist/train-images-idx3-ubyte.gz\n",
            "Downloading http://yann.lecun.com/exdb/mnist/train-images-idx3-ubyte.gz to ./MNIST/MNIST/raw/train-images-idx3-ubyte.gz\n"
          ]
        },
        {
          "output_type": "stream",
          "name": "stderr",
          "text": [
            "100%|██████████| 9912422/9912422 [00:00<00:00, 238391472.78it/s]"
          ]
        },
        {
          "output_type": "stream",
          "name": "stdout",
          "text": [
            "Extracting ./MNIST/MNIST/raw/train-images-idx3-ubyte.gz to ./MNIST/MNIST/raw\n"
          ]
        },
        {
          "output_type": "stream",
          "name": "stderr",
          "text": [
            "\n"
          ]
        },
        {
          "output_type": "stream",
          "name": "stdout",
          "text": [
            "\n",
            "Downloading http://yann.lecun.com/exdb/mnist/train-labels-idx1-ubyte.gz\n",
            "Downloading http://yann.lecun.com/exdb/mnist/train-labels-idx1-ubyte.gz to ./MNIST/MNIST/raw/train-labels-idx1-ubyte.gz\n"
          ]
        },
        {
          "output_type": "stream",
          "name": "stderr",
          "text": [
            "100%|██████████| 28881/28881 [00:00<00:00, 93903638.62it/s]\n"
          ]
        },
        {
          "output_type": "stream",
          "name": "stdout",
          "text": [
            "Extracting ./MNIST/MNIST/raw/train-labels-idx1-ubyte.gz to ./MNIST/MNIST/raw\n",
            "\n",
            "Downloading http://yann.lecun.com/exdb/mnist/t10k-images-idx3-ubyte.gz\n",
            "Downloading http://yann.lecun.com/exdb/mnist/t10k-images-idx3-ubyte.gz to ./MNIST/MNIST/raw/t10k-images-idx3-ubyte.gz\n"
          ]
        },
        {
          "output_type": "stream",
          "name": "stderr",
          "text": [
            "100%|██████████| 1648877/1648877 [00:00<00:00, 79419974.70it/s]"
          ]
        },
        {
          "output_type": "stream",
          "name": "stdout",
          "text": [
            "Extracting ./MNIST/MNIST/raw/t10k-images-idx3-ubyte.gz to ./MNIST/MNIST/raw\n"
          ]
        },
        {
          "output_type": "stream",
          "name": "stderr",
          "text": [
            "\n"
          ]
        },
        {
          "output_type": "stream",
          "name": "stdout",
          "text": [
            "\n",
            "Downloading http://yann.lecun.com/exdb/mnist/t10k-labels-idx1-ubyte.gz\n",
            "Downloading http://yann.lecun.com/exdb/mnist/t10k-labels-idx1-ubyte.gz to ./MNIST/MNIST/raw/t10k-labels-idx1-ubyte.gz\n"
          ]
        },
        {
          "output_type": "stream",
          "name": "stderr",
          "text": [
            "100%|██████████| 4542/4542 [00:00<00:00, 11101706.74it/s]\n"
          ]
        },
        {
          "output_type": "stream",
          "name": "stdout",
          "text": [
            "Extracting ./MNIST/MNIST/raw/t10k-labels-idx1-ubyte.gz to ./MNIST/MNIST/raw\n",
            "\n"
          ]
        }
      ]
    },
    {
      "cell_type": "code",
      "source": [
        "batch_size = 100\n",
        "dataloader = DataLoader(mnist_ds, batch_size=batch_size, shuffle=True)"
      ],
      "metadata": {
        "id": "NPl_wRIYIWj7"
      },
      "execution_count": 5,
      "outputs": []
    },
    {
      "cell_type": "code",
      "source": [
        "latent_dim = 512\n",
        "\n",
        "class Generator(nn.Module):\n",
        "    def __init__(self, hidden_dim=512, num_classes=10):\n",
        "        super().__init__()\n",
        "        self.num_classes = num_classes\n",
        "        self.net = nn.Sequential(\n",
        "                nn.Linear(latent_dim+num_classes, hidden_dim),\n",
        "                nn.BatchNorm1d(hidden_dim),\n",
        "                nn.LeakyReLU(),\n",
        "\n",
        "                nn.Linear(hidden_dim, hidden_dim),\n",
        "                nn.BatchNorm1d(hidden_dim),\n",
        "                nn.LeakyReLU(),\n",
        "\n",
        "                nn.Linear(hidden_dim, 784),\n",
        "        )\n",
        "    def forward(self, noise, class_label):\n",
        "        batch_size = noise.size(0)\n",
        "        class_label = nn.functional.one_hot(class_label, self.num_classes)\n",
        "        input_vectors = torch.cat([noise, class_label], dim=1)\n",
        "        return self.net(input_vectors).view(batch_size, 1, 28, 28).sigmoid() # [B, C*H*W] -> [B, C, H, W]\n",
        "\n",
        "class Discriminator(nn.Module):\n",
        "    def __init__(self, num_classes=10):\n",
        "        super().__init__()\n",
        "        self.num_classes = num_classes\n",
        "        self.net = nn.Sequential(\n",
        "                nn.Linear(784+num_classes, 256),\n",
        "                nn.Sigmoid(),\n",
        "                nn.Dropout(p=0.3),\n",
        "\n",
        "                nn.Linear(256, 256),\n",
        "                nn.Sigmoid(),\n",
        "                nn.Dropout(p=0.3),\n",
        "\n",
        "                nn.Linear(256, 1),\n",
        "        )\n",
        "    def forward(self, img, class_label):\n",
        "        batch_size = img.size(0)\n",
        "        img = img.view(batch_size, -1)  # [B, C, H, W] -> [B, C*H*W]\n",
        "        class_label = nn.functional.one_hot(class_label, self.num_classes)\n",
        "        input_vectors = torch.cat([img, class_label], dim=1)\n",
        "        return self.net(input_vectors)"
      ],
      "metadata": {
        "id": "S9LR3XoILRJD"
      },
      "execution_count": 6,
      "outputs": []
    },
    {
      "cell_type": "code",
      "source": [
        "device = torch.device('cuda' if torch.cuda.is_available() else 'cpu')\n",
        "print(\"Device: \", device)"
      ],
      "metadata": {
        "colab": {
          "base_uri": "https://localhost:8080/"
        },
        "id": "E6TaySugOTdB",
        "outputId": "ddafc6fa-1386-45cc-bada-df94475ee370"
      },
      "execution_count": 7,
      "outputs": [
        {
          "output_type": "stream",
          "name": "stdout",
          "text": [
            "Device:  cuda\n"
          ]
        }
      ]
    },
    {
      "cell_type": "code",
      "source": [
        "generator = Generator().to(device)\n",
        "discriminator = Discriminator().to(device)"
      ],
      "metadata": {
        "id": "tbQLBHg3OeRt"
      },
      "execution_count": 8,
      "outputs": []
    },
    {
      "cell_type": "code",
      "source": [
        "# noise = torch.rand((32, latent_dim), device=device)\n",
        "\n",
        "# img = generator(noise)\n",
        "# print(img.shape)\n",
        "\n",
        "# score = discriminator(img)\n",
        "# print(score.shape)"
      ],
      "metadata": {
        "id": "G2-XBw-AOI11"
      },
      "execution_count": 9,
      "outputs": []
    },
    {
      "cell_type": "code",
      "source": [
        "# dummy_latent = torch.rand((64, latent_dim), device=device)\n",
        "\n",
        "# dummy_img = generator(dummy_latent)"
      ],
      "metadata": {
        "id": "-ryXwqvp1ZlI"
      },
      "execution_count": 10,
      "outputs": []
    },
    {
      "cell_type": "code",
      "source": [
        "# dummy_img.shape"
      ],
      "metadata": {
        "id": "IuB8wGM91ZjD"
      },
      "execution_count": 11,
      "outputs": []
    },
    {
      "cell_type": "code",
      "source": [
        "# from IPython.display import Image\n",
        "# progress_path = \"drive/MyDrive/GAN_MNIST/progress\"\n",
        "# os.makedirs(progress_path, exist_ok=True)\n",
        "# save_image(dummy_img, progress_path+\"/dummy.png\", nrow=8)\n",
        "\n",
        "# Image(os.path.join(progress_path, 'dummy.png'))"
      ],
      "metadata": {
        "id": "B03_sUtm4mu6"
      },
      "execution_count": 12,
      "outputs": []
    },
    {
      "cell_type": "code",
      "source": [],
      "metadata": {
        "id": "JK3W3tnJ1Zeo"
      },
      "execution_count": 12,
      "outputs": []
    },
    {
      "cell_type": "code",
      "source": [
        "print(generator)\n",
        "print(discriminator)"
      ],
      "metadata": {
        "colab": {
          "base_uri": "https://localhost:8080/"
        },
        "id": "mUesBYB3PaUq",
        "outputId": "89f6cc95-d399-44aa-dec3-13a9d470df78"
      },
      "execution_count": 13,
      "outputs": [
        {
          "output_type": "stream",
          "name": "stdout",
          "text": [
            "Generator(\n",
            "  (net): Sequential(\n",
            "    (0): Linear(in_features=522, out_features=512, bias=True)\n",
            "    (1): BatchNorm1d(512, eps=1e-05, momentum=0.1, affine=True, track_running_stats=True)\n",
            "    (2): LeakyReLU(negative_slope=0.01)\n",
            "    (3): Linear(in_features=512, out_features=512, bias=True)\n",
            "    (4): BatchNorm1d(512, eps=1e-05, momentum=0.1, affine=True, track_running_stats=True)\n",
            "    (5): LeakyReLU(negative_slope=0.01)\n",
            "    (6): Linear(in_features=512, out_features=784, bias=True)\n",
            "  )\n",
            ")\n",
            "Discriminator(\n",
            "  (net): Sequential(\n",
            "    (0): Linear(in_features=794, out_features=256, bias=True)\n",
            "    (1): Sigmoid()\n",
            "    (2): Dropout(p=0.3, inplace=False)\n",
            "    (3): Linear(in_features=256, out_features=256, bias=True)\n",
            "    (4): Sigmoid()\n",
            "    (5): Dropout(p=0.3, inplace=False)\n",
            "    (6): Linear(in_features=256, out_features=1, bias=True)\n",
            "  )\n",
            ")\n"
          ]
        }
      ]
    },
    {
      "cell_type": "code",
      "source": [
        "gen_opt = torch.optim.Adam(generator.parameters(), lr=3e-4)\n",
        "disc_opt = torch.optim.Adam(discriminator.parameters(), lr=3e-4)\n",
        "\n",
        "adv_crit = nn.BCEWithLogitsLoss().to(device)"
      ],
      "metadata": {
        "id": "65k__JDFPpfp"
      },
      "execution_count": 22,
      "outputs": []
    },
    {
      "cell_type": "code",
      "source": [
        "def train_gen(real_batch, real_labels):\n",
        "\n",
        "    generator.train()\n",
        "    discriminator.eval()\n",
        "\n",
        "    batch_size = real_batch.size(0)\n",
        "    z = torch.normal(0, 1, (batch_size, latent_dim), device=device)\n",
        "    fake_batch = generator(z, real_labels)\n",
        "    # with torch.no_grad():\n",
        "    #     score = discriminator(fake_batch)\n",
        "    score = discriminator(fake_batch, real_labels)\n",
        "    targets = torch.ones_like(score, device=device) # generator target is 1 for fake\n",
        "    loss = adv_crit(score, targets)\n",
        "\n",
        "    gen_opt.zero_grad()\n",
        "    loss.backward()\n",
        "    gen_opt.step()\n",
        "\n",
        "    return loss.item()\n",
        "\n",
        "def train_disc(real_batch, real_labels):\n",
        "\n",
        "    generator.eval()\n",
        "    discriminator.train()\n",
        "\n",
        "    batch_size = real_batch.size(0)\n",
        "    z = torch.normal(0, 1, (batch_size, latent_dim), device=device)\n",
        "    with torch.no_grad():\n",
        "        fake_batch = generator(z, real_labels)\n",
        "\n",
        "    all_batch = torch.cat([real_batch, fake_batch], dim=0)\n",
        "    all_labels = torch.cat([real_labels, real_labels], dim=0)\n",
        "    score = discriminator(all_batch, all_labels)\n",
        "    targets = torch.cat(\n",
        "        [\n",
        "            torch.ones((batch_size, 1), device=device),\n",
        "            torch.zeros((batch_size, 1), device=device),\n",
        "        ]\n",
        "    )\n",
        "\n",
        "    loss = adv_crit(score, targets)\n",
        "\n",
        "    disc_opt.zero_grad()\n",
        "    loss.backward()\n",
        "    disc_opt.step()\n",
        "\n",
        "    return loss.item()"
      ],
      "metadata": {
        "id": "JLCeZabKR-dF"
      },
      "execution_count": 23,
      "outputs": []
    },
    {
      "cell_type": "code",
      "source": [
        "def checkpoint(epoch, losses, CKPT_PATH, CKPT=\"checkpoint.pt\"):\n",
        "    progress_path = os.path.join(CKPT_PATH, \"progress\")\n",
        "\n",
        "    state = {\n",
        "        \"epoch\" : epoch,\n",
        "        \"generator\" : generator.state_dict(),\n",
        "        \"discriminator\" : discriminator.state_dict(),\n",
        "        \"gen_opt\" : gen_opt.state_dict(),\n",
        "        \"disc_opt\" : disc_opt.state_dict(),\n",
        "        \"losses\" : losses,\n",
        "    }\n",
        "\n",
        "    os.makedirs(CKPT_PATH, exist_ok=True)\n",
        "    torch.save(state, os.path.join(CKPT_PATH, CKPT))\n",
        "\n",
        "    generator.eval()\n",
        "    gen_batch = generator(sample_latent, sample_labels)\n",
        "\n",
        "    os.makedirs(progress_path, exist_ok=True)\n",
        "    save_image(gen_batch, os.path.join(progress_path, f\"epoch_{epoch+1}.png\"))\n",
        "\n",
        "    print(f\"! Checkpoint saved at {epoch+1}.\")"
      ],
      "metadata": {
        "id": "XcXbaD6NqkTA"
      },
      "execution_count": 24,
      "outputs": []
    },
    {
      "cell_type": "code",
      "source": [
        "def load_checkpoint(CKPT_PATH, CKPT=\"checkpoint.pt\"):\n",
        "    state = torch.load(os.path.join(CKPT_PATH, CKPT))\n",
        "    generator.load_state_dict(state[\"generator\"])\n",
        "    discriminator.load_state_dict(state[\"discriminator\"])\n",
        "\n",
        "    gen_opt.load_state_dict(state[\"gen_opt\"])\n",
        "    disc_opt.load_state_dict(state[\"disc_opt\"])\n",
        "\n",
        "    return state[\"epoch\"], state[\"losses\"]"
      ],
      "metadata": {
        "id": "VwN5-rnAsIOD"
      },
      "execution_count": 25,
      "outputs": []
    },
    {
      "cell_type": "code",
      "source": [
        "MAX_EPOCH = 200\n",
        "CKPT_PATH = \"drive/MyDrive/cGAN_MNIST\"\n",
        "CKPT_EVERY = 10\n",
        "sample_latent = torch.normal(0, 1, (64, latent_dim), device=device)\n",
        "sample_labels = torch.randint(0, 10, (64,), device=device)\n",
        "print(f\"Checkpoint labels to sample: {sample_labels}\")\n",
        "\n",
        "losses = {\n",
        "    \"gen_loss\" : [],\n",
        "    \"disc_loss\" : [],\n",
        "}\n",
        "\n",
        "start = 0\n",
        "# Load checkpoint if found\n",
        "if os.path.exists(CKPT_PATH+\"/checkpoint.pt\"):\n",
        "    print(\"Checkpoint found\")\n",
        "    print('Loading checkpoint...')\n",
        "    start, losses = load_checkpoint(CKPT_PATH)\n",
        "\n",
        "tic = time()\n",
        "for epoch in range(start, MAX_EPOCH):\n",
        "    print(f\"Epoch {epoch+1}\", end=\" \")\n",
        "    running_losses = {\n",
        "        \"gen_loss\" : [],\n",
        "        \"disc_loss\" : [],\n",
        "    }\n",
        "    for real_batch, labels in dataloader:\n",
        "\n",
        "        # some regularization for the discriminator for the initial stages\n",
        "        real_batch = real_batch.to(device) #+ (1/(epoch+0.1))*torch.rand_like(real_batch, device=device)\n",
        "        labels = labels.to(device)\n",
        "\n",
        "        disc_loss = train_disc(real_batch, labels)\n",
        "        gen_loss = train_gen(real_batch, labels)\n",
        "\n",
        "        running_losses[\"disc_loss\"].append(disc_loss)\n",
        "        running_losses[\"gen_loss\"].append(gen_loss)\n",
        "\n",
        "    for loss_name in ['gen_loss', \"disc_loss\"]:\n",
        "        epoch_loss = running_losses[loss_name]\n",
        "        losses[loss_name].append(sum(epoch_loss)/len(epoch_loss))\n",
        "\n",
        "    print(f\"| G_loss : {losses['gen_loss'][-1]:.4f}, D_loss : {losses['disc_loss'][-1]:.4f}\")\n",
        "\n",
        "    if (epoch+1) % CKPT_EVERY == 0:\n",
        "        checkpoint(epoch, losses, CKPT_PATH)\n",
        "        # pass\n",
        "toc = time()\n",
        "checkpoint(epoch, losses, CKPT_PATH)\n",
        "print(\"Training done!\")\n",
        "print(f\"Time taken to train: {(toc-tic)/60:.3f} mins\")"
      ],
      "metadata": {
        "id": "myszQSCqQM6S",
        "colab": {
          "base_uri": "https://localhost:8080/",
          "height": 1000
        },
        "outputId": "4a297fa4-b0f1-4614-9a69-531ffa9335bb"
      },
      "execution_count": 26,
      "outputs": [
        {
          "output_type": "stream",
          "name": "stdout",
          "text": [
            "Checkpoint labels to sample: tensor([3, 4, 9, 7, 3, 3, 0, 6, 2, 8, 8, 3, 7, 5, 2, 0, 2, 2, 5, 9, 3, 8, 8, 7,\n",
            "        1, 6, 8, 1, 7, 1, 8, 5, 1, 2, 5, 2, 2, 9, 0, 8, 9, 5, 5, 0, 4, 0, 9, 1,\n",
            "        5, 2, 6, 1, 4, 1, 2, 9, 3, 8, 6, 4, 8, 8, 1, 7], device='cuda:0')\n",
            "Checkpoint found\n",
            "Loading checkpoint...\n",
            "Epoch 101 | G_loss : 0.8508, D_loss : 0.6386\n",
            "Epoch 102 | G_loss : 0.8510, D_loss : 0.6397\n",
            "Epoch 103 | G_loss : 0.8576, D_loss : 0.6379\n",
            "Epoch 104 | G_loss : 0.8504, D_loss : 0.6380\n",
            "Epoch 105 | G_loss : 0.8529, D_loss : 0.6372\n",
            "Epoch 106 | G_loss : 0.8597, D_loss : 0.6370\n",
            "Epoch 107 | G_loss : 0.8553, D_loss : 0.6375\n",
            "Epoch 108 | G_loss : 0.8541, D_loss : 0.6373\n",
            "Epoch 109 | G_loss : 0.8551, D_loss : 0.6374\n",
            "Epoch 110 | G_loss : 0.8537, D_loss : 0.6374\n",
            "! Checkpoint saved at 110.\n",
            "Epoch 111 | G_loss : 0.8557, D_loss : 0.6359\n",
            "Epoch 112 | G_loss : 0.8573, D_loss : 0.6354\n",
            "Epoch 113 | G_loss : 0.8558, D_loss : 0.6368\n",
            "Epoch 114 | G_loss : 0.8602, D_loss : 0.6350\n",
            "Epoch 115 | G_loss : 0.8550, D_loss : 0.6374\n",
            "Epoch 116 | G_loss : 0.8544, D_loss : 0.6371\n",
            "Epoch 117 | G_loss : 0.8570, D_loss : 0.6368\n",
            "Epoch 118 | G_loss : 0.8556, D_loss : 0.6363\n",
            "Epoch 119 | G_loss : 0.8611, D_loss : 0.6357\n",
            "Epoch 120 | G_loss : 0.8548, D_loss : 0.6376\n",
            "! Checkpoint saved at 120.\n",
            "Epoch 121 | G_loss : 0.8618, D_loss : 0.6351\n",
            "Epoch 122 | G_loss : 0.8673, D_loss : 0.6342\n",
            "Epoch 123 | G_loss : 0.8595, D_loss : 0.6350\n",
            "Epoch 124 | G_loss : 0.8616, D_loss : 0.6346\n",
            "Epoch 125 | G_loss : 0.8589, D_loss : 0.6366\n",
            "Epoch 126 | G_loss : 0.8588, D_loss : 0.6343\n",
            "Epoch 127 | G_loss : 0.8652, D_loss : 0.6331\n",
            "Epoch 128 | G_loss : 0.8565, D_loss : 0.6348\n",
            "Epoch 129 "
          ]
        },
        {
          "output_type": "error",
          "ename": "KeyboardInterrupt",
          "evalue": "",
          "traceback": [
            "\u001b[0;31m---------------------------------------------------------------------------\u001b[0m",
            "\u001b[0;31mKeyboardInterrupt\u001b[0m                         Traceback (most recent call last)",
            "\u001b[0;32m<ipython-input-26-4a4cc6f9aa68>\u001b[0m in \u001b[0;36m<cell line: 21>\u001b[0;34m()\u001b[0m\n\u001b[1;32m     31\u001b[0m         \u001b[0mlabels\u001b[0m \u001b[0;34m=\u001b[0m \u001b[0mlabels\u001b[0m\u001b[0;34m.\u001b[0m\u001b[0mto\u001b[0m\u001b[0;34m(\u001b[0m\u001b[0mdevice\u001b[0m\u001b[0;34m)\u001b[0m\u001b[0;34m\u001b[0m\u001b[0;34m\u001b[0m\u001b[0m\n\u001b[1;32m     32\u001b[0m \u001b[0;34m\u001b[0m\u001b[0m\n\u001b[0;32m---> 33\u001b[0;31m         \u001b[0mdisc_loss\u001b[0m \u001b[0;34m=\u001b[0m \u001b[0mtrain_disc\u001b[0m\u001b[0;34m(\u001b[0m\u001b[0mreal_batch\u001b[0m\u001b[0;34m,\u001b[0m \u001b[0mlabels\u001b[0m\u001b[0;34m)\u001b[0m\u001b[0;34m\u001b[0m\u001b[0;34m\u001b[0m\u001b[0m\n\u001b[0m\u001b[1;32m     34\u001b[0m         \u001b[0mgen_loss\u001b[0m \u001b[0;34m=\u001b[0m \u001b[0mtrain_gen\u001b[0m\u001b[0;34m(\u001b[0m\u001b[0mreal_batch\u001b[0m\u001b[0;34m,\u001b[0m \u001b[0mlabels\u001b[0m\u001b[0;34m)\u001b[0m\u001b[0;34m\u001b[0m\u001b[0;34m\u001b[0m\u001b[0m\n\u001b[1;32m     35\u001b[0m \u001b[0;34m\u001b[0m\u001b[0m\n",
            "\u001b[0;32m<ipython-input-23-dd557cbc6ae4>\u001b[0m in \u001b[0;36mtrain_disc\u001b[0;34m(real_batch, real_labels)\u001b[0m\n\u001b[1;32m     31\u001b[0m     \u001b[0mall_batch\u001b[0m \u001b[0;34m=\u001b[0m \u001b[0mtorch\u001b[0m\u001b[0;34m.\u001b[0m\u001b[0mcat\u001b[0m\u001b[0;34m(\u001b[0m\u001b[0;34m[\u001b[0m\u001b[0mreal_batch\u001b[0m\u001b[0;34m,\u001b[0m \u001b[0mfake_batch\u001b[0m\u001b[0;34m]\u001b[0m\u001b[0;34m,\u001b[0m \u001b[0mdim\u001b[0m\u001b[0;34m=\u001b[0m\u001b[0;36m0\u001b[0m\u001b[0;34m)\u001b[0m\u001b[0;34m\u001b[0m\u001b[0;34m\u001b[0m\u001b[0m\n\u001b[1;32m     32\u001b[0m     \u001b[0mall_labels\u001b[0m \u001b[0;34m=\u001b[0m \u001b[0mtorch\u001b[0m\u001b[0;34m.\u001b[0m\u001b[0mcat\u001b[0m\u001b[0;34m(\u001b[0m\u001b[0;34m[\u001b[0m\u001b[0mreal_labels\u001b[0m\u001b[0;34m,\u001b[0m \u001b[0mreal_labels\u001b[0m\u001b[0;34m]\u001b[0m\u001b[0;34m,\u001b[0m \u001b[0mdim\u001b[0m\u001b[0;34m=\u001b[0m\u001b[0;36m0\u001b[0m\u001b[0;34m)\u001b[0m\u001b[0;34m\u001b[0m\u001b[0;34m\u001b[0m\u001b[0m\n\u001b[0;32m---> 33\u001b[0;31m     \u001b[0mscore\u001b[0m \u001b[0;34m=\u001b[0m \u001b[0mdiscriminator\u001b[0m\u001b[0;34m(\u001b[0m\u001b[0mall_batch\u001b[0m\u001b[0;34m,\u001b[0m \u001b[0mall_labels\u001b[0m\u001b[0;34m)\u001b[0m\u001b[0;34m\u001b[0m\u001b[0;34m\u001b[0m\u001b[0m\n\u001b[0m\u001b[1;32m     34\u001b[0m     targets = torch.cat(\n\u001b[1;32m     35\u001b[0m         [\n",
            "\u001b[0;32m/usr/local/lib/python3.10/dist-packages/torch/nn/modules/module.py\u001b[0m in \u001b[0;36m_wrapped_call_impl\u001b[0;34m(self, *args, **kwargs)\u001b[0m\n\u001b[1;32m   1516\u001b[0m             \u001b[0;32mreturn\u001b[0m \u001b[0mself\u001b[0m\u001b[0;34m.\u001b[0m\u001b[0m_compiled_call_impl\u001b[0m\u001b[0;34m(\u001b[0m\u001b[0;34m*\u001b[0m\u001b[0margs\u001b[0m\u001b[0;34m,\u001b[0m \u001b[0;34m**\u001b[0m\u001b[0mkwargs\u001b[0m\u001b[0;34m)\u001b[0m  \u001b[0;31m# type: ignore[misc]\u001b[0m\u001b[0;34m\u001b[0m\u001b[0;34m\u001b[0m\u001b[0m\n\u001b[1;32m   1517\u001b[0m         \u001b[0;32melse\u001b[0m\u001b[0;34m:\u001b[0m\u001b[0;34m\u001b[0m\u001b[0;34m\u001b[0m\u001b[0m\n\u001b[0;32m-> 1518\u001b[0;31m             \u001b[0;32mreturn\u001b[0m \u001b[0mself\u001b[0m\u001b[0;34m.\u001b[0m\u001b[0m_call_impl\u001b[0m\u001b[0;34m(\u001b[0m\u001b[0;34m*\u001b[0m\u001b[0margs\u001b[0m\u001b[0;34m,\u001b[0m \u001b[0;34m**\u001b[0m\u001b[0mkwargs\u001b[0m\u001b[0;34m)\u001b[0m\u001b[0;34m\u001b[0m\u001b[0;34m\u001b[0m\u001b[0m\n\u001b[0m\u001b[1;32m   1519\u001b[0m \u001b[0;34m\u001b[0m\u001b[0m\n\u001b[1;32m   1520\u001b[0m     \u001b[0;32mdef\u001b[0m \u001b[0m_call_impl\u001b[0m\u001b[0;34m(\u001b[0m\u001b[0mself\u001b[0m\u001b[0;34m,\u001b[0m \u001b[0;34m*\u001b[0m\u001b[0margs\u001b[0m\u001b[0;34m,\u001b[0m \u001b[0;34m**\u001b[0m\u001b[0mkwargs\u001b[0m\u001b[0;34m)\u001b[0m\u001b[0;34m:\u001b[0m\u001b[0;34m\u001b[0m\u001b[0;34m\u001b[0m\u001b[0m\n",
            "\u001b[0;32m/usr/local/lib/python3.10/dist-packages/torch/nn/modules/module.py\u001b[0m in \u001b[0;36m_call_impl\u001b[0;34m(self, *args, **kwargs)\u001b[0m\n\u001b[1;32m   1525\u001b[0m                 \u001b[0;32mor\u001b[0m \u001b[0m_global_backward_pre_hooks\u001b[0m \u001b[0;32mor\u001b[0m \u001b[0m_global_backward_hooks\u001b[0m\u001b[0;34m\u001b[0m\u001b[0;34m\u001b[0m\u001b[0m\n\u001b[1;32m   1526\u001b[0m                 or _global_forward_hooks or _global_forward_pre_hooks):\n\u001b[0;32m-> 1527\u001b[0;31m             \u001b[0;32mreturn\u001b[0m \u001b[0mforward_call\u001b[0m\u001b[0;34m(\u001b[0m\u001b[0;34m*\u001b[0m\u001b[0margs\u001b[0m\u001b[0;34m,\u001b[0m \u001b[0;34m**\u001b[0m\u001b[0mkwargs\u001b[0m\u001b[0;34m)\u001b[0m\u001b[0;34m\u001b[0m\u001b[0;34m\u001b[0m\u001b[0m\n\u001b[0m\u001b[1;32m   1528\u001b[0m \u001b[0;34m\u001b[0m\u001b[0m\n\u001b[1;32m   1529\u001b[0m         \u001b[0;32mtry\u001b[0m\u001b[0;34m:\u001b[0m\u001b[0;34m\u001b[0m\u001b[0;34m\u001b[0m\u001b[0m\n",
            "\u001b[0;32m<ipython-input-6-ceeb63e59511>\u001b[0m in \u001b[0;36mforward\u001b[0;34m(self, img, class_label)\u001b[0m\n\u001b[1;32m     42\u001b[0m         \u001b[0mclass_label\u001b[0m \u001b[0;34m=\u001b[0m \u001b[0mnn\u001b[0m\u001b[0;34m.\u001b[0m\u001b[0mfunctional\u001b[0m\u001b[0;34m.\u001b[0m\u001b[0mone_hot\u001b[0m\u001b[0;34m(\u001b[0m\u001b[0mclass_label\u001b[0m\u001b[0;34m,\u001b[0m \u001b[0mself\u001b[0m\u001b[0;34m.\u001b[0m\u001b[0mnum_classes\u001b[0m\u001b[0;34m)\u001b[0m\u001b[0;34m\u001b[0m\u001b[0;34m\u001b[0m\u001b[0m\n\u001b[1;32m     43\u001b[0m         \u001b[0minput_vectors\u001b[0m \u001b[0;34m=\u001b[0m \u001b[0mtorch\u001b[0m\u001b[0;34m.\u001b[0m\u001b[0mcat\u001b[0m\u001b[0;34m(\u001b[0m\u001b[0;34m[\u001b[0m\u001b[0mimg\u001b[0m\u001b[0;34m,\u001b[0m \u001b[0mclass_label\u001b[0m\u001b[0;34m]\u001b[0m\u001b[0;34m,\u001b[0m \u001b[0mdim\u001b[0m\u001b[0;34m=\u001b[0m\u001b[0;36m1\u001b[0m\u001b[0;34m)\u001b[0m\u001b[0;34m\u001b[0m\u001b[0;34m\u001b[0m\u001b[0m\n\u001b[0;32m---> 44\u001b[0;31m         \u001b[0;32mreturn\u001b[0m \u001b[0mself\u001b[0m\u001b[0;34m.\u001b[0m\u001b[0mnet\u001b[0m\u001b[0;34m(\u001b[0m\u001b[0minput_vectors\u001b[0m\u001b[0;34m)\u001b[0m\u001b[0;34m\u001b[0m\u001b[0;34m\u001b[0m\u001b[0m\n\u001b[0m",
            "\u001b[0;32m/usr/local/lib/python3.10/dist-packages/torch/nn/modules/module.py\u001b[0m in \u001b[0;36m_wrapped_call_impl\u001b[0;34m(self, *args, **kwargs)\u001b[0m\n\u001b[1;32m   1516\u001b[0m             \u001b[0;32mreturn\u001b[0m \u001b[0mself\u001b[0m\u001b[0;34m.\u001b[0m\u001b[0m_compiled_call_impl\u001b[0m\u001b[0;34m(\u001b[0m\u001b[0;34m*\u001b[0m\u001b[0margs\u001b[0m\u001b[0;34m,\u001b[0m \u001b[0;34m**\u001b[0m\u001b[0mkwargs\u001b[0m\u001b[0;34m)\u001b[0m  \u001b[0;31m# type: ignore[misc]\u001b[0m\u001b[0;34m\u001b[0m\u001b[0;34m\u001b[0m\u001b[0m\n\u001b[1;32m   1517\u001b[0m         \u001b[0;32melse\u001b[0m\u001b[0;34m:\u001b[0m\u001b[0;34m\u001b[0m\u001b[0;34m\u001b[0m\u001b[0m\n\u001b[0;32m-> 1518\u001b[0;31m             \u001b[0;32mreturn\u001b[0m \u001b[0mself\u001b[0m\u001b[0;34m.\u001b[0m\u001b[0m_call_impl\u001b[0m\u001b[0;34m(\u001b[0m\u001b[0;34m*\u001b[0m\u001b[0margs\u001b[0m\u001b[0;34m,\u001b[0m \u001b[0;34m**\u001b[0m\u001b[0mkwargs\u001b[0m\u001b[0;34m)\u001b[0m\u001b[0;34m\u001b[0m\u001b[0;34m\u001b[0m\u001b[0m\n\u001b[0m\u001b[1;32m   1519\u001b[0m \u001b[0;34m\u001b[0m\u001b[0m\n\u001b[1;32m   1520\u001b[0m     \u001b[0;32mdef\u001b[0m \u001b[0m_call_impl\u001b[0m\u001b[0;34m(\u001b[0m\u001b[0mself\u001b[0m\u001b[0;34m,\u001b[0m \u001b[0;34m*\u001b[0m\u001b[0margs\u001b[0m\u001b[0;34m,\u001b[0m \u001b[0;34m**\u001b[0m\u001b[0mkwargs\u001b[0m\u001b[0;34m)\u001b[0m\u001b[0;34m:\u001b[0m\u001b[0;34m\u001b[0m\u001b[0;34m\u001b[0m\u001b[0m\n",
            "\u001b[0;32m/usr/local/lib/python3.10/dist-packages/torch/nn/modules/module.py\u001b[0m in \u001b[0;36m_call_impl\u001b[0;34m(self, *args, **kwargs)\u001b[0m\n\u001b[1;32m   1525\u001b[0m                 \u001b[0;32mor\u001b[0m \u001b[0m_global_backward_pre_hooks\u001b[0m \u001b[0;32mor\u001b[0m \u001b[0m_global_backward_hooks\u001b[0m\u001b[0;34m\u001b[0m\u001b[0;34m\u001b[0m\u001b[0m\n\u001b[1;32m   1526\u001b[0m                 or _global_forward_hooks or _global_forward_pre_hooks):\n\u001b[0;32m-> 1527\u001b[0;31m             \u001b[0;32mreturn\u001b[0m \u001b[0mforward_call\u001b[0m\u001b[0;34m(\u001b[0m\u001b[0;34m*\u001b[0m\u001b[0margs\u001b[0m\u001b[0;34m,\u001b[0m \u001b[0;34m**\u001b[0m\u001b[0mkwargs\u001b[0m\u001b[0;34m)\u001b[0m\u001b[0;34m\u001b[0m\u001b[0;34m\u001b[0m\u001b[0m\n\u001b[0m\u001b[1;32m   1528\u001b[0m \u001b[0;34m\u001b[0m\u001b[0m\n\u001b[1;32m   1529\u001b[0m         \u001b[0;32mtry\u001b[0m\u001b[0;34m:\u001b[0m\u001b[0;34m\u001b[0m\u001b[0;34m\u001b[0m\u001b[0m\n",
            "\u001b[0;32m/usr/local/lib/python3.10/dist-packages/torch/nn/modules/container.py\u001b[0m in \u001b[0;36mforward\u001b[0;34m(self, input)\u001b[0m\n\u001b[1;32m    213\u001b[0m     \u001b[0;32mdef\u001b[0m \u001b[0mforward\u001b[0m\u001b[0;34m(\u001b[0m\u001b[0mself\u001b[0m\u001b[0;34m,\u001b[0m \u001b[0minput\u001b[0m\u001b[0;34m)\u001b[0m\u001b[0;34m:\u001b[0m\u001b[0;34m\u001b[0m\u001b[0;34m\u001b[0m\u001b[0m\n\u001b[1;32m    214\u001b[0m         \u001b[0;32mfor\u001b[0m \u001b[0mmodule\u001b[0m \u001b[0;32min\u001b[0m \u001b[0mself\u001b[0m\u001b[0;34m:\u001b[0m\u001b[0;34m\u001b[0m\u001b[0;34m\u001b[0m\u001b[0m\n\u001b[0;32m--> 215\u001b[0;31m             \u001b[0minput\u001b[0m \u001b[0;34m=\u001b[0m \u001b[0mmodule\u001b[0m\u001b[0;34m(\u001b[0m\u001b[0minput\u001b[0m\u001b[0;34m)\u001b[0m\u001b[0;34m\u001b[0m\u001b[0;34m\u001b[0m\u001b[0m\n\u001b[0m\u001b[1;32m    216\u001b[0m         \u001b[0;32mreturn\u001b[0m \u001b[0minput\u001b[0m\u001b[0;34m\u001b[0m\u001b[0;34m\u001b[0m\u001b[0m\n\u001b[1;32m    217\u001b[0m \u001b[0;34m\u001b[0m\u001b[0m\n",
            "\u001b[0;31mKeyboardInterrupt\u001b[0m: "
          ]
        }
      ]
    },
    {
      "cell_type": "code",
      "source": [
        "from matplotlib import pyplot as plt\n",
        "\n",
        "plt.plot(losses[\"gen_loss\"])\n",
        "plt.plot(losses[\"disc_loss\"])\n",
        "\n",
        "plt.legend([\"Generator\", \"Discriminator\"])\n",
        "plt.xlabel(\"Epoch\")\n",
        "plt.ylabel(\"Loss\")\n",
        "\n",
        "plt.show()"
      ],
      "metadata": {
        "id": "pb4cxTiOzJue",
        "colab": {
          "base_uri": "https://localhost:8080/",
          "height": 449
        },
        "outputId": "897bcfeb-ed72-4733-ece1-4a9bca21a0d8"
      },
      "execution_count": 27,
      "outputs": [
        {
          "output_type": "display_data",
          "data": {
            "text/plain": [
              "<Figure size 640x480 with 1 Axes>"
            ],
            "image/png": "[encoded data removed]"
          },
          "metadata": {}
        }
      ]
    },
    {
      "cell_type": "code",
      "source": [],
      "metadata": {
        "id": "veh41LITf1xF"
      },
      "execution_count": null,
      "outputs": []
    }
  ]
}